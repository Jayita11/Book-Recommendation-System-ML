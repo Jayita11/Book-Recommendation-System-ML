{
  "cells": [
    {
      "cell_type": "markdown",
      "metadata": {
        "id": "tRyhkLEPH7Uw"
      },
      "source": [
        "## Importing necessary libraries & dataset"
      ]
    },
    {
      "cell_type": "code",
      "execution_count": 2,
      "metadata": {
        "id": "_j_C2m-yH7Ux"
      },
      "outputs": [],
      "source": [
        "import pandas as pd\n",
        "import numpy as np\n",
        "import matplotlib.pyplot as plt\n",
        "import seaborn as sns\n",
        "import plotly.express as px\n",
        "from scipy.sparse import csr_matrix\n",
        "from sklearn.neighbors import NearestNeighbors\n",
        "import warnings\n",
        "warnings.filterwarnings(\"ignore\")"
      ]
    },
    {
      "cell_type": "code",
      "execution_count": 3,
      "metadata": {
        "colab": {
          "base_uri": "https://localhost:8080/"
        },
        "id": "LuJTfRSXff1_",
        "outputId": "a88a62a3-833e-4310-95c5-ab32b87e8ba7"
      },
      "outputs": [],
      "source": [
        "# Loading Books.csv data into a DataFrame\n",
        "df_book = pd.read_csv('/Users/jayitachatterjee/Desktop/ML_Projects/Book_Recommendation_System/Dataset/Books.csv')\n",
        "\n",
        "# Loading Ratings.csv data into a DataFrame\n",
        "df_rating = pd.read_csv('/Users/jayitachatterjee/Desktop/ML_Projects/Book_Recommendation_System/Dataset/Ratings.csv')\n",
        "\n",
        "# Loading Users.csv data into a DataFrame\n",
        "df_user = pd.read_csv('/Users/jayitachatterjee/Desktop/ML_Projects/Book_Recommendation_System/Dataset/Users.csv')"
      ]
    },
    {
      "cell_type": "code",
      "execution_count": 4,
      "metadata": {
        "colab": {
          "base_uri": "https://localhost:8080/",
          "height": 204
        },
        "id": "_YJ0Bskgff4i",
        "outputId": "158f5d1a-aa9a-4f77-d262-3a453261d80f"
      },
      "outputs": [
        {
          "data": {
            "text/html": [
              "<div>\n",
              "<style scoped>\n",
              "    .dataframe tbody tr th:only-of-type {\n",
              "        vertical-align: middle;\n",
              "    }\n",
              "\n",
              "    .dataframe tbody tr th {\n",
              "        vertical-align: top;\n",
              "    }\n",
              "\n",
              "    .dataframe thead th {\n",
              "        text-align: right;\n",
              "    }\n",
              "</style>\n",
              "<table border=\"1\" class=\"dataframe\">\n",
              "  <thead>\n",
              "    <tr style=\"text-align: right;\">\n",
              "      <th></th>\n",
              "      <th>ISBN</th>\n",
              "      <th>Book-Title</th>\n",
              "      <th>Book-Author</th>\n",
              "      <th>Year-Of-Publication</th>\n",
              "      <th>Publisher</th>\n",
              "      <th>Image-URL-S</th>\n",
              "      <th>Image-URL-M</th>\n",
              "      <th>Image-URL-L</th>\n",
              "    </tr>\n",
              "  </thead>\n",
              "  <tbody>\n",
              "    <tr>\n",
              "      <th>0</th>\n",
              "      <td>0195153448</td>\n",
              "      <td>Classical Mythology</td>\n",
              "      <td>Mark P. O. Morford</td>\n",
              "      <td>2002</td>\n",
              "      <td>Oxford University Press</td>\n",
              "      <td>http://images.amazon.com/images/P/0195153448.0...</td>\n",
              "      <td>http://images.amazon.com/images/P/0195153448.0...</td>\n",
              "      <td>http://images.amazon.com/images/P/0195153448.0...</td>\n",
              "    </tr>\n",
              "    <tr>\n",
              "      <th>1</th>\n",
              "      <td>0002005018</td>\n",
              "      <td>Clara Callan</td>\n",
              "      <td>Richard Bruce Wright</td>\n",
              "      <td>2001</td>\n",
              "      <td>HarperFlamingo Canada</td>\n",
              "      <td>http://images.amazon.com/images/P/0002005018.0...</td>\n",
              "      <td>http://images.amazon.com/images/P/0002005018.0...</td>\n",
              "      <td>http://images.amazon.com/images/P/0002005018.0...</td>\n",
              "    </tr>\n",
              "    <tr>\n",
              "      <th>2</th>\n",
              "      <td>0060973129</td>\n",
              "      <td>Decision in Normandy</td>\n",
              "      <td>Carlo D'Este</td>\n",
              "      <td>1991</td>\n",
              "      <td>HarperPerennial</td>\n",
              "      <td>http://images.amazon.com/images/P/0060973129.0...</td>\n",
              "      <td>http://images.amazon.com/images/P/0060973129.0...</td>\n",
              "      <td>http://images.amazon.com/images/P/0060973129.0...</td>\n",
              "    </tr>\n",
              "    <tr>\n",
              "      <th>3</th>\n",
              "      <td>0374157065</td>\n",
              "      <td>Flu: The Story of the Great Influenza Pandemic...</td>\n",
              "      <td>Gina Bari Kolata</td>\n",
              "      <td>1999</td>\n",
              "      <td>Farrar Straus Giroux</td>\n",
              "      <td>http://images.amazon.com/images/P/0374157065.0...</td>\n",
              "      <td>http://images.amazon.com/images/P/0374157065.0...</td>\n",
              "      <td>http://images.amazon.com/images/P/0374157065.0...</td>\n",
              "    </tr>\n",
              "    <tr>\n",
              "      <th>4</th>\n",
              "      <td>0393045218</td>\n",
              "      <td>The Mummies of Urumchi</td>\n",
              "      <td>E. J. W. Barber</td>\n",
              "      <td>1999</td>\n",
              "      <td>W. W. Norton &amp;amp; Company</td>\n",
              "      <td>http://images.amazon.com/images/P/0393045218.0...</td>\n",
              "      <td>http://images.amazon.com/images/P/0393045218.0...</td>\n",
              "      <td>http://images.amazon.com/images/P/0393045218.0...</td>\n",
              "    </tr>\n",
              "  </tbody>\n",
              "</table>\n",
              "</div>"
            ],
            "text/plain": [
              "         ISBN                                         Book-Title  \\\n",
              "0  0195153448                                Classical Mythology   \n",
              "1  0002005018                                       Clara Callan   \n",
              "2  0060973129                               Decision in Normandy   \n",
              "3  0374157065  Flu: The Story of the Great Influenza Pandemic...   \n",
              "4  0393045218                             The Mummies of Urumchi   \n",
              "\n",
              "            Book-Author Year-Of-Publication                   Publisher  \\\n",
              "0    Mark P. O. Morford                2002     Oxford University Press   \n",
              "1  Richard Bruce Wright                2001       HarperFlamingo Canada   \n",
              "2          Carlo D'Este                1991             HarperPerennial   \n",
              "3      Gina Bari Kolata                1999        Farrar Straus Giroux   \n",
              "4       E. J. W. Barber                1999  W. W. Norton &amp; Company   \n",
              "\n",
              "                                         Image-URL-S  \\\n",
              "0  http://images.amazon.com/images/P/0195153448.0...   \n",
              "1  http://images.amazon.com/images/P/0002005018.0...   \n",
              "2  http://images.amazon.com/images/P/0060973129.0...   \n",
              "3  http://images.amazon.com/images/P/0374157065.0...   \n",
              "4  http://images.amazon.com/images/P/0393045218.0...   \n",
              "\n",
              "                                         Image-URL-M  \\\n",
              "0  http://images.amazon.com/images/P/0195153448.0...   \n",
              "1  http://images.amazon.com/images/P/0002005018.0...   \n",
              "2  http://images.amazon.com/images/P/0060973129.0...   \n",
              "3  http://images.amazon.com/images/P/0374157065.0...   \n",
              "4  http://images.amazon.com/images/P/0393045218.0...   \n",
              "\n",
              "                                         Image-URL-L  \n",
              "0  http://images.amazon.com/images/P/0195153448.0...  \n",
              "1  http://images.amazon.com/images/P/0002005018.0...  \n",
              "2  http://images.amazon.com/images/P/0060973129.0...  \n",
              "3  http://images.amazon.com/images/P/0374157065.0...  \n",
              "4  http://images.amazon.com/images/P/0393045218.0...  "
            ]
          },
          "execution_count": 4,
          "metadata": {},
          "output_type": "execute_result"
        }
      ],
      "source": [
        "# Display the first 5 rows of the Books.csv data to get an overview of the dataset\n",
        "df_book.head()"
      ]
    },
    {
      "cell_type": "code",
      "execution_count": 5,
      "metadata": {
        "colab": {
          "base_uri": "https://localhost:8080/",
          "height": 204
        },
        "id": "bOLrRcfEff6q",
        "outputId": "62ec04a4-bfde-4285-c89a-74397659beb2"
      },
      "outputs": [
        {
          "data": {
            "text/html": [
              "<div>\n",
              "<style scoped>\n",
              "    .dataframe tbody tr th:only-of-type {\n",
              "        vertical-align: middle;\n",
              "    }\n",
              "\n",
              "    .dataframe tbody tr th {\n",
              "        vertical-align: top;\n",
              "    }\n",
              "\n",
              "    .dataframe thead th {\n",
              "        text-align: right;\n",
              "    }\n",
              "</style>\n",
              "<table border=\"1\" class=\"dataframe\">\n",
              "  <thead>\n",
              "    <tr style=\"text-align: right;\">\n",
              "      <th></th>\n",
              "      <th>User-ID</th>\n",
              "      <th>ISBN</th>\n",
              "      <th>Book-Rating</th>\n",
              "    </tr>\n",
              "  </thead>\n",
              "  <tbody>\n",
              "    <tr>\n",
              "      <th>0</th>\n",
              "      <td>276725</td>\n",
              "      <td>034545104X</td>\n",
              "      <td>0</td>\n",
              "    </tr>\n",
              "    <tr>\n",
              "      <th>1</th>\n",
              "      <td>276726</td>\n",
              "      <td>0155061224</td>\n",
              "      <td>5</td>\n",
              "    </tr>\n",
              "    <tr>\n",
              "      <th>2</th>\n",
              "      <td>276727</td>\n",
              "      <td>0446520802</td>\n",
              "      <td>0</td>\n",
              "    </tr>\n",
              "    <tr>\n",
              "      <th>3</th>\n",
              "      <td>276729</td>\n",
              "      <td>052165615X</td>\n",
              "      <td>3</td>\n",
              "    </tr>\n",
              "    <tr>\n",
              "      <th>4</th>\n",
              "      <td>276729</td>\n",
              "      <td>0521795028</td>\n",
              "      <td>6</td>\n",
              "    </tr>\n",
              "  </tbody>\n",
              "</table>\n",
              "</div>"
            ],
            "text/plain": [
              "   User-ID        ISBN  Book-Rating\n",
              "0   276725  034545104X            0\n",
              "1   276726  0155061224            5\n",
              "2   276727  0446520802            0\n",
              "3   276729  052165615X            3\n",
              "4   276729  0521795028            6"
            ]
          },
          "execution_count": 5,
          "metadata": {},
          "output_type": "execute_result"
        }
      ],
      "source": [
        "# Display the first 5 rows of the Ratings.csv data to get an overview of the dataset\n",
        "df_rating.head()"
      ]
    },
    {
      "cell_type": "code",
      "execution_count": 6,
      "metadata": {
        "colab": {
          "base_uri": "https://localhost:8080/",
          "height": 204
        },
        "id": "Co-5wciMff-9",
        "outputId": "f9fe0c1d-f089-416f-8b74-fc7edaf86172"
      },
      "outputs": [
        {
          "data": {
            "text/html": [
              "<div>\n",
              "<style scoped>\n",
              "    .dataframe tbody tr th:only-of-type {\n",
              "        vertical-align: middle;\n",
              "    }\n",
              "\n",
              "    .dataframe tbody tr th {\n",
              "        vertical-align: top;\n",
              "    }\n",
              "\n",
              "    .dataframe thead th {\n",
              "        text-align: right;\n",
              "    }\n",
              "</style>\n",
              "<table border=\"1\" class=\"dataframe\">\n",
              "  <thead>\n",
              "    <tr style=\"text-align: right;\">\n",
              "      <th></th>\n",
              "      <th>User-ID</th>\n",
              "      <th>Location</th>\n",
              "      <th>Age</th>\n",
              "    </tr>\n",
              "  </thead>\n",
              "  <tbody>\n",
              "    <tr>\n",
              "      <th>0</th>\n",
              "      <td>1</td>\n",
              "      <td>nyc, new york, usa</td>\n",
              "      <td>NaN</td>\n",
              "    </tr>\n",
              "    <tr>\n",
              "      <th>1</th>\n",
              "      <td>2</td>\n",
              "      <td>stockton, california, usa</td>\n",
              "      <td>18.0</td>\n",
              "    </tr>\n",
              "    <tr>\n",
              "      <th>2</th>\n",
              "      <td>3</td>\n",
              "      <td>moscow, yukon territory, russia</td>\n",
              "      <td>NaN</td>\n",
              "    </tr>\n",
              "    <tr>\n",
              "      <th>3</th>\n",
              "      <td>4</td>\n",
              "      <td>porto, v.n.gaia, portugal</td>\n",
              "      <td>17.0</td>\n",
              "    </tr>\n",
              "    <tr>\n",
              "      <th>4</th>\n",
              "      <td>5</td>\n",
              "      <td>farnborough, hants, united kingdom</td>\n",
              "      <td>NaN</td>\n",
              "    </tr>\n",
              "  </tbody>\n",
              "</table>\n",
              "</div>"
            ],
            "text/plain": [
              "   User-ID                            Location   Age\n",
              "0        1                  nyc, new york, usa   NaN\n",
              "1        2           stockton, california, usa  18.0\n",
              "2        3     moscow, yukon territory, russia   NaN\n",
              "3        4           porto, v.n.gaia, portugal  17.0\n",
              "4        5  farnborough, hants, united kingdom   NaN"
            ]
          },
          "execution_count": 6,
          "metadata": {},
          "output_type": "execute_result"
        }
      ],
      "source": [
        "# Display the first 5 rows of the Users.csv data to get an overview of the dataset\n",
        "df_user.head()"
      ]
    },
    {
      "cell_type": "markdown",
      "metadata": {
        "id": "KOxIbMkyJy3O"
      },
      "source": [
        "#Data Exploration"
      ]
    },
    {
      "cell_type": "markdown",
      "metadata": {
        "id": "a021Z-xTKTyL"
      },
      "source": [
        "##Check all the columns\n"
      ]
    },
    {
      "cell_type": "code",
      "execution_count": 7,
      "metadata": {
        "colab": {
          "base_uri": "https://localhost:8080/"
        },
        "id": "lbnxo6mkJ6ID",
        "outputId": "5cf71872-3ef8-4fa3-817c-d1ad6f7bf434"
      },
      "outputs": [
        {
          "data": {
            "text/plain": [
              "Index(['ISBN', 'Book-Title', 'Book-Author', 'Year-Of-Publication', 'Publisher',\n",
              "       'Image-URL-S', 'Image-URL-M', 'Image-URL-L'],\n",
              "      dtype='object')"
            ]
          },
          "execution_count": 7,
          "metadata": {},
          "output_type": "execute_result"
        }
      ],
      "source": [
        "df_book.columns"
      ]
    },
    {
      "cell_type": "markdown",
      "metadata": {
        "id": "gETkQAqiJ-mk"
      },
      "source": [
        "#### Data Information :\n",
        "ISBN: A unique identifier for the book.\n",
        "\n",
        "Book-Title: The title of the book.\n",
        "\n",
        "Book-Author: The author of the book.\n",
        "\n",
        "Year-Of-Publication: The year in which the book was published.\n",
        "\n",
        "Publisher: The publisher of the book.\n",
        "\n",
        "Image-URL-S: A URL pointing to a small image of the book cover.\n",
        "\n",
        "Image-URL-M: A URL pointing to a medium-sized image of the book cover.\n",
        "\n",
        "Image-URL-L: A URL pointing to a large image of the book cover."
      ]
    },
    {
      "cell_type": "code",
      "execution_count": 8,
      "metadata": {
        "colab": {
          "base_uri": "https://localhost:8080/"
        },
        "id": "Turn4QHWJ6V0",
        "outputId": "56bb162f-c34c-48a1-d5e0-b538367986c7"
      },
      "outputs": [
        {
          "data": {
            "text/plain": [
              "Index(['User-ID', 'ISBN', 'Book-Rating'], dtype='object')"
            ]
          },
          "execution_count": 8,
          "metadata": {},
          "output_type": "execute_result"
        }
      ],
      "source": [
        "df_rating.columns"
      ]
    },
    {
      "cell_type": "markdown",
      "metadata": {
        "id": "HBHk3M1_J-_H"
      },
      "source": [
        "#### Data Information :\n",
        "User-ID: A unique identifier for the user who provided the rating.\n",
        "\n",
        "ISBN: A unique identifier for the book that was rated.\n",
        "\n",
        "Book-Rating: The rating given to the book by the user."
      ]
    },
    {
      "cell_type": "code",
      "execution_count": 9,
      "metadata": {
        "colab": {
          "base_uri": "https://localhost:8080/"
        },
        "id": "ofSP7hbDJ6dN",
        "outputId": "b09039e1-f134-46d7-c283-ca7ae6d6b464"
      },
      "outputs": [
        {
          "data": {
            "text/plain": [
              "Index(['User-ID', 'Location', 'Age'], dtype='object')"
            ]
          },
          "execution_count": 9,
          "metadata": {},
          "output_type": "execute_result"
        }
      ],
      "source": [
        "df_user.columns"
      ]
    },
    {
      "cell_type": "markdown",
      "metadata": {
        "id": "nV85JVVPJ_fO"
      },
      "source": [
        "#### Data Information :\n",
        "User-ID: A unique identifier for the user.\n",
        "\n",
        "Location: The location of the user, likely given as a string with details like city, state, and/or country.\n",
        "\n",
        "Age: The age of the user."
      ]
    },
    {
      "cell_type": "markdown",
      "metadata": {
        "id": "ekZhNbooKRc6"
      },
      "source": [
        "##Check shape of the imported datasets\n"
      ]
    },
    {
      "cell_type": "code",
      "execution_count": 10,
      "metadata": {
        "colab": {
          "base_uri": "https://localhost:8080/"
        },
        "id": "VWS9dyrefgBg",
        "outputId": "a7647b7a-6dd1-4a82-814c-714f41d9f805"
      },
      "outputs": [
        {
          "name": "stdout",
          "output_type": "stream",
          "text": [
            "The Books dataset has 271360 data points and 8 features.\n"
          ]
        }
      ],
      "source": [
        "print(f\"The Books dataset has {df_book.shape[0]} data points and {df_book.shape[1]} features.\")\n"
      ]
    },
    {
      "cell_type": "code",
      "execution_count": 11,
      "metadata": {
        "colab": {
          "base_uri": "https://localhost:8080/"
        },
        "id": "eizMOuqCkOUe",
        "outputId": "5fac503f-d5e6-48ca-dd40-be610f0b7227"
      },
      "outputs": [
        {
          "name": "stdout",
          "output_type": "stream",
          "text": [
            "The Ratings dataset has 1149780 data points and 3 features.\n"
          ]
        }
      ],
      "source": [
        "print(f\"The Ratings dataset has {df_rating.shape[0]} data points and {df_rating.shape[1]} features.\")"
      ]
    },
    {
      "cell_type": "code",
      "execution_count": 12,
      "metadata": {
        "colab": {
          "base_uri": "https://localhost:8080/"
        },
        "id": "3C1RTqWpkOXK",
        "outputId": "c9050bed-a28a-4793-dc77-c1f8c4329f52"
      },
      "outputs": [
        {
          "name": "stdout",
          "output_type": "stream",
          "text": [
            "The Users dataset has 278858 data points and 3 features.\n"
          ]
        }
      ],
      "source": [
        "print(f\"The Users dataset has {df_user.shape[0]} data points and {df_user.shape[1]} features.\")"
      ]
    },
    {
      "cell_type": "markdown",
      "metadata": {
        "id": "W9hYw2B0KX6E"
      },
      "source": [
        "## Rename the columns for better understanding"
      ]
    },
    {
      "cell_type": "code",
      "execution_count": 13,
      "metadata": {
        "colab": {
          "base_uri": "https://localhost:8080/",
          "height": 204
        },
        "collapsed": true,
        "id": "odSOAVjRnzfw",
        "outputId": "ecde2ec6-77cf-4815-ec9e-845a8b9bca77"
      },
      "outputs": [
        {
          "data": {
            "text/html": [
              "<div>\n",
              "<style scoped>\n",
              "    .dataframe tbody tr th:only-of-type {\n",
              "        vertical-align: middle;\n",
              "    }\n",
              "\n",
              "    .dataframe tbody tr th {\n",
              "        vertical-align: top;\n",
              "    }\n",
              "\n",
              "    .dataframe thead th {\n",
              "        text-align: right;\n",
              "    }\n",
              "</style>\n",
              "<table border=\"1\" class=\"dataframe\">\n",
              "  <thead>\n",
              "    <tr style=\"text-align: right;\">\n",
              "      <th></th>\n",
              "      <th>ISBN</th>\n",
              "      <th>Book_Title</th>\n",
              "      <th>Author</th>\n",
              "      <th>Publication_Year</th>\n",
              "      <th>Publisher</th>\n",
              "      <th>Image_URL_Small</th>\n",
              "      <th>Image_URL_Medium</th>\n",
              "      <th>Image_URL_Large</th>\n",
              "    </tr>\n",
              "  </thead>\n",
              "  <tbody>\n",
              "    <tr>\n",
              "      <th>0</th>\n",
              "      <td>0195153448</td>\n",
              "      <td>Classical Mythology</td>\n",
              "      <td>Mark P. O. Morford</td>\n",
              "      <td>2002</td>\n",
              "      <td>Oxford University Press</td>\n",
              "      <td>http://images.amazon.com/images/P/0195153448.0...</td>\n",
              "      <td>http://images.amazon.com/images/P/0195153448.0...</td>\n",
              "      <td>http://images.amazon.com/images/P/0195153448.0...</td>\n",
              "    </tr>\n",
              "    <tr>\n",
              "      <th>1</th>\n",
              "      <td>0002005018</td>\n",
              "      <td>Clara Callan</td>\n",
              "      <td>Richard Bruce Wright</td>\n",
              "      <td>2001</td>\n",
              "      <td>HarperFlamingo Canada</td>\n",
              "      <td>http://images.amazon.com/images/P/0002005018.0...</td>\n",
              "      <td>http://images.amazon.com/images/P/0002005018.0...</td>\n",
              "      <td>http://images.amazon.com/images/P/0002005018.0...</td>\n",
              "    </tr>\n",
              "    <tr>\n",
              "      <th>2</th>\n",
              "      <td>0060973129</td>\n",
              "      <td>Decision in Normandy</td>\n",
              "      <td>Carlo D'Este</td>\n",
              "      <td>1991</td>\n",
              "      <td>HarperPerennial</td>\n",
              "      <td>http://images.amazon.com/images/P/0060973129.0...</td>\n",
              "      <td>http://images.amazon.com/images/P/0060973129.0...</td>\n",
              "      <td>http://images.amazon.com/images/P/0060973129.0...</td>\n",
              "    </tr>\n",
              "    <tr>\n",
              "      <th>3</th>\n",
              "      <td>0374157065</td>\n",
              "      <td>Flu: The Story of the Great Influenza Pandemic...</td>\n",
              "      <td>Gina Bari Kolata</td>\n",
              "      <td>1999</td>\n",
              "      <td>Farrar Straus Giroux</td>\n",
              "      <td>http://images.amazon.com/images/P/0374157065.0...</td>\n",
              "      <td>http://images.amazon.com/images/P/0374157065.0...</td>\n",
              "      <td>http://images.amazon.com/images/P/0374157065.0...</td>\n",
              "    </tr>\n",
              "    <tr>\n",
              "      <th>4</th>\n",
              "      <td>0393045218</td>\n",
              "      <td>The Mummies of Urumchi</td>\n",
              "      <td>E. J. W. Barber</td>\n",
              "      <td>1999</td>\n",
              "      <td>W. W. Norton &amp;amp; Company</td>\n",
              "      <td>http://images.amazon.com/images/P/0393045218.0...</td>\n",
              "      <td>http://images.amazon.com/images/P/0393045218.0...</td>\n",
              "      <td>http://images.amazon.com/images/P/0393045218.0...</td>\n",
              "    </tr>\n",
              "  </tbody>\n",
              "</table>\n",
              "</div>"
            ],
            "text/plain": [
              "         ISBN                                         Book_Title  \\\n",
              "0  0195153448                                Classical Mythology   \n",
              "1  0002005018                                       Clara Callan   \n",
              "2  0060973129                               Decision in Normandy   \n",
              "3  0374157065  Flu: The Story of the Great Influenza Pandemic...   \n",
              "4  0393045218                             The Mummies of Urumchi   \n",
              "\n",
              "                 Author Publication_Year                   Publisher  \\\n",
              "0    Mark P. O. Morford             2002     Oxford University Press   \n",
              "1  Richard Bruce Wright             2001       HarperFlamingo Canada   \n",
              "2          Carlo D'Este             1991             HarperPerennial   \n",
              "3      Gina Bari Kolata             1999        Farrar Straus Giroux   \n",
              "4       E. J. W. Barber             1999  W. W. Norton &amp; Company   \n",
              "\n",
              "                                     Image_URL_Small  \\\n",
              "0  http://images.amazon.com/images/P/0195153448.0...   \n",
              "1  http://images.amazon.com/images/P/0002005018.0...   \n",
              "2  http://images.amazon.com/images/P/0060973129.0...   \n",
              "3  http://images.amazon.com/images/P/0374157065.0...   \n",
              "4  http://images.amazon.com/images/P/0393045218.0...   \n",
              "\n",
              "                                    Image_URL_Medium  \\\n",
              "0  http://images.amazon.com/images/P/0195153448.0...   \n",
              "1  http://images.amazon.com/images/P/0002005018.0...   \n",
              "2  http://images.amazon.com/images/P/0060973129.0...   \n",
              "3  http://images.amazon.com/images/P/0374157065.0...   \n",
              "4  http://images.amazon.com/images/P/0393045218.0...   \n",
              "\n",
              "                                     Image_URL_Large  \n",
              "0  http://images.amazon.com/images/P/0195153448.0...  \n",
              "1  http://images.amazon.com/images/P/0002005018.0...  \n",
              "2  http://images.amazon.com/images/P/0060973129.0...  \n",
              "3  http://images.amazon.com/images/P/0374157065.0...  \n",
              "4  http://images.amazon.com/images/P/0393045218.0...  "
            ]
          },
          "execution_count": 13,
          "metadata": {},
          "output_type": "execute_result"
        }
      ],
      "source": [
        "# Assuming your dataframe is named 'df'\n",
        "\n",
        "df_book.rename(columns={\n",
        "    'Book-Title': 'Book_Title',\n",
        "    'Book-Author': 'Author',\n",
        "    'Year-Of-Publication': 'Publication_Year',\n",
        "    'Publisher': 'Publisher',\n",
        "    'Image-URL-S': 'Image_URL_Small',\n",
        "    'Image-URL-M': 'Image_URL_Medium',\n",
        "    'Image-URL-L': 'Image_URL_Large'\n",
        "}, inplace=True)\n",
        "df_book.head()"
      ]
    },
    {
      "cell_type": "code",
      "execution_count": 14,
      "metadata": {
        "colab": {
          "base_uri": "https://localhost:8080/",
          "height": 204
        },
        "collapsed": true,
        "id": "4Fmks6BEnzmt",
        "outputId": "ac894696-1773-4a26-d347-8777f0b2beb3"
      },
      "outputs": [
        {
          "data": {
            "text/html": [
              "<div>\n",
              "<style scoped>\n",
              "    .dataframe tbody tr th:only-of-type {\n",
              "        vertical-align: middle;\n",
              "    }\n",
              "\n",
              "    .dataframe tbody tr th {\n",
              "        vertical-align: top;\n",
              "    }\n",
              "\n",
              "    .dataframe thead th {\n",
              "        text-align: right;\n",
              "    }\n",
              "</style>\n",
              "<table border=\"1\" class=\"dataframe\">\n",
              "  <thead>\n",
              "    <tr style=\"text-align: right;\">\n",
              "      <th></th>\n",
              "      <th>User_ID</th>\n",
              "      <th>ISBN</th>\n",
              "      <th>Book_Rating</th>\n",
              "    </tr>\n",
              "  </thead>\n",
              "  <tbody>\n",
              "    <tr>\n",
              "      <th>0</th>\n",
              "      <td>276725</td>\n",
              "      <td>034545104X</td>\n",
              "      <td>0</td>\n",
              "    </tr>\n",
              "    <tr>\n",
              "      <th>1</th>\n",
              "      <td>276726</td>\n",
              "      <td>0155061224</td>\n",
              "      <td>5</td>\n",
              "    </tr>\n",
              "    <tr>\n",
              "      <th>2</th>\n",
              "      <td>276727</td>\n",
              "      <td>0446520802</td>\n",
              "      <td>0</td>\n",
              "    </tr>\n",
              "    <tr>\n",
              "      <th>3</th>\n",
              "      <td>276729</td>\n",
              "      <td>052165615X</td>\n",
              "      <td>3</td>\n",
              "    </tr>\n",
              "    <tr>\n",
              "      <th>4</th>\n",
              "      <td>276729</td>\n",
              "      <td>0521795028</td>\n",
              "      <td>6</td>\n",
              "    </tr>\n",
              "  </tbody>\n",
              "</table>\n",
              "</div>"
            ],
            "text/plain": [
              "   User_ID        ISBN  Book_Rating\n",
              "0   276725  034545104X            0\n",
              "1   276726  0155061224            5\n",
              "2   276727  0446520802            0\n",
              "3   276729  052165615X            3\n",
              "4   276729  0521795028            6"
            ]
          },
          "execution_count": 14,
          "metadata": {},
          "output_type": "execute_result"
        }
      ],
      "source": [
        "df_rating.rename(columns={\n",
        "    'User-ID': 'User_ID',\n",
        "    'Book-Rating': 'Book_Rating',\n",
        "}, inplace=True)\n",
        "df_rating.head()"
      ]
    },
    {
      "cell_type": "code",
      "execution_count": 15,
      "metadata": {
        "colab": {
          "base_uri": "https://localhost:8080/",
          "height": 204
        },
        "collapsed": true,
        "id": "jR5jYz8Knzuv",
        "outputId": "9b298f00-ab8e-4e39-c2b6-c2c1073c09f3"
      },
      "outputs": [
        {
          "data": {
            "text/html": [
              "<div>\n",
              "<style scoped>\n",
              "    .dataframe tbody tr th:only-of-type {\n",
              "        vertical-align: middle;\n",
              "    }\n",
              "\n",
              "    .dataframe tbody tr th {\n",
              "        vertical-align: top;\n",
              "    }\n",
              "\n",
              "    .dataframe thead th {\n",
              "        text-align: right;\n",
              "    }\n",
              "</style>\n",
              "<table border=\"1\" class=\"dataframe\">\n",
              "  <thead>\n",
              "    <tr style=\"text-align: right;\">\n",
              "      <th></th>\n",
              "      <th>User_ID</th>\n",
              "      <th>Location</th>\n",
              "      <th>Age</th>\n",
              "    </tr>\n",
              "  </thead>\n",
              "  <tbody>\n",
              "    <tr>\n",
              "      <th>0</th>\n",
              "      <td>1</td>\n",
              "      <td>nyc, new york, usa</td>\n",
              "      <td>NaN</td>\n",
              "    </tr>\n",
              "    <tr>\n",
              "      <th>1</th>\n",
              "      <td>2</td>\n",
              "      <td>stockton, california, usa</td>\n",
              "      <td>18.0</td>\n",
              "    </tr>\n",
              "    <tr>\n",
              "      <th>2</th>\n",
              "      <td>3</td>\n",
              "      <td>moscow, yukon territory, russia</td>\n",
              "      <td>NaN</td>\n",
              "    </tr>\n",
              "    <tr>\n",
              "      <th>3</th>\n",
              "      <td>4</td>\n",
              "      <td>porto, v.n.gaia, portugal</td>\n",
              "      <td>17.0</td>\n",
              "    </tr>\n",
              "    <tr>\n",
              "      <th>4</th>\n",
              "      <td>5</td>\n",
              "      <td>farnborough, hants, united kingdom</td>\n",
              "      <td>NaN</td>\n",
              "    </tr>\n",
              "  </tbody>\n",
              "</table>\n",
              "</div>"
            ],
            "text/plain": [
              "   User_ID                            Location   Age\n",
              "0        1                  nyc, new york, usa   NaN\n",
              "1        2           stockton, california, usa  18.0\n",
              "2        3     moscow, yukon territory, russia   NaN\n",
              "3        4           porto, v.n.gaia, portugal  17.0\n",
              "4        5  farnborough, hants, united kingdom   NaN"
            ]
          },
          "execution_count": 15,
          "metadata": {},
          "output_type": "execute_result"
        }
      ],
      "source": [
        "df_user.rename(columns={\n",
        "    'User-ID': 'User_ID'\n",
        "}, inplace=True)\n",
        "df_user.head()"
      ]
    },
    {
      "cell_type": "markdown",
      "metadata": {
        "id": "kv8qTqCBK7rl"
      },
      "source": [
        "##Check for missing values"
      ]
    },
    {
      "cell_type": "code",
      "execution_count": 16,
      "metadata": {
        "colab": {
          "base_uri": "https://localhost:8080/",
          "height": 331
        },
        "id": "-gwU31Z2kOgM",
        "outputId": "78d996b0-2052-4ed9-82d9-8098cec46c19"
      },
      "outputs": [
        {
          "data": {
            "text/plain": [
              "ISBN                0\n",
              "Book_Title          0\n",
              "Author              2\n",
              "Publication_Year    0\n",
              "Publisher           2\n",
              "Image_URL_Small     0\n",
              "Image_URL_Medium    0\n",
              "Image_URL_Large     3\n",
              "dtype: int64"
            ]
          },
          "execution_count": 16,
          "metadata": {},
          "output_type": "execute_result"
        }
      ],
      "source": [
        "df_book.isnull().sum()"
      ]
    },
    {
      "cell_type": "markdown",
      "metadata": {
        "id": "0XEsGtfqK_Lu"
      },
      "source": [
        "#### Insights :\n",
        "It contains some missing values, with 2 missing entries in the Author and Publisher columns, and 3 missing entries in the Image_URL_Large column, but no missing values in other columns."
      ]
    },
    {
      "cell_type": "code",
      "execution_count": 17,
      "metadata": {
        "colab": {
          "base_uri": "https://localhost:8080/",
          "height": 176
        },
        "id": "wFKK6EStlXRg",
        "outputId": "37da8a89-afe6-4062-9996-66e858448905"
      },
      "outputs": [
        {
          "data": {
            "text/plain": [
              "User_ID        0\n",
              "ISBN           0\n",
              "Book_Rating    0\n",
              "dtype: int64"
            ]
          },
          "execution_count": 17,
          "metadata": {},
          "output_type": "execute_result"
        }
      ],
      "source": [
        "df_rating.isnull().sum()"
      ]
    },
    {
      "cell_type": "markdown",
      "metadata": {
        "id": "Giap4kibLIe3"
      },
      "source": [
        "#### Insights :\n",
        "No missing values are present"
      ]
    },
    {
      "cell_type": "code",
      "execution_count": 18,
      "metadata": {
        "colab": {
          "base_uri": "https://localhost:8080/",
          "height": 176
        },
        "id": "O-kXlKbllXUF",
        "outputId": "d5a249cc-b44e-4ad9-f126-c34aa5226a43"
      },
      "outputs": [
        {
          "data": {
            "text/plain": [
              "User_ID          0\n",
              "Location         0\n",
              "Age         110762\n",
              "dtype: int64"
            ]
          },
          "execution_count": 18,
          "metadata": {},
          "output_type": "execute_result"
        }
      ],
      "source": [
        "df_user.isnull().sum()"
      ]
    },
    {
      "cell_type": "markdown",
      "metadata": {
        "id": "oaXnmNIULNwe"
      },
      "source": [
        "#### Insights :\n",
        "There are 110,762 missing values in the Age column, while User_ID and Location have no missing entries."
      ]
    },
    {
      "cell_type": "markdown",
      "metadata": {
        "id": "SoLgEDO3LnEu"
      },
      "source": [
        "## To check duplicate records"
      ]
    },
    {
      "cell_type": "code",
      "execution_count": 19,
      "metadata": {
        "colab": {
          "base_uri": "https://localhost:8080/"
        },
        "id": "cxx56gCrlXWV",
        "outputId": "b9d71f1c-fdbb-4689-a34f-edcec6c87624"
      },
      "outputs": [
        {
          "data": {
            "text/plain": [
              "np.int64(0)"
            ]
          },
          "execution_count": 19,
          "metadata": {},
          "output_type": "execute_result"
        }
      ],
      "source": [
        "df_book.duplicated().sum()"
      ]
    },
    {
      "cell_type": "code",
      "execution_count": 20,
      "metadata": {
        "colab": {
          "base_uri": "https://localhost:8080/"
        },
        "id": "p0mLg5zDlXYp",
        "outputId": "9a1adb3a-a99f-4fe7-e047-33f681592a05"
      },
      "outputs": [
        {
          "data": {
            "text/plain": [
              "np.int64(0)"
            ]
          },
          "execution_count": 20,
          "metadata": {},
          "output_type": "execute_result"
        }
      ],
      "source": [
        "df_rating.duplicated().sum()"
      ]
    },
    {
      "cell_type": "code",
      "execution_count": 21,
      "metadata": {
        "colab": {
          "base_uri": "https://localhost:8080/"
        },
        "id": "kCIIrDdXlXa4",
        "outputId": "6fdd0153-2010-4f9c-f274-a31ceac0da3d"
      },
      "outputs": [
        {
          "data": {
            "text/plain": [
              "np.int64(0)"
            ]
          },
          "execution_count": 21,
          "metadata": {},
          "output_type": "execute_result"
        }
      ],
      "source": [
        "df_user.duplicated().sum()"
      ]
    },
    {
      "cell_type": "markdown",
      "metadata": {
        "id": "BJBJ-nfMLqsT"
      },
      "source": [
        "#### Insights :\n",
        "There are no duplicated entries in any of the datasets.\n",
        "\n",
        "\n",
        "\n",
        "\n"
      ]
    },
    {
      "cell_type": "markdown",
      "metadata": {
        "id": "-8QWXyAhrf-T"
      },
      "source": [
        "## Merge df_book and df_ratng"
      ]
    },
    {
      "cell_type": "code",
      "execution_count": 22,
      "metadata": {
        "colab": {
          "base_uri": "https://localhost:8080/"
        },
        "id": "wjTB8977rfWd",
        "outputId": "0745ad11-7428-4501-dec4-ebc654658e0d"
      },
      "outputs": [
        {
          "data": {
            "text/plain": [
              "Index(['ISBN', 'Book_Title', 'Author', 'Publication_Year', 'Publisher',\n",
              "       'Image_URL_Small', 'Image_URL_Medium', 'Image_URL_Large', 'User_ID',\n",
              "       'Book_Rating'],\n",
              "      dtype='object')"
            ]
          },
          "execution_count": 22,
          "metadata": {},
          "output_type": "execute_result"
        }
      ],
      "source": [
        "df_book_rating = df_book.merge(df_rating, on = 'ISBN')\n",
        "df_book_rating.columns"
      ]
    },
    {
      "cell_type": "markdown",
      "metadata": {
        "id": "yuDimkUDMQXm"
      },
      "source": [
        "###Collaborative Filtering Based Recommender System"
      ]
    },
    {
      "cell_type": "code",
      "execution_count": 23,
      "metadata": {
        "colab": {
          "base_uri": "https://localhost:8080/"
        },
        "id": "mZNMPIiM8LI9",
        "outputId": "4030f430-e224-445b-e7b5-8a59931bb100"
      },
      "outputs": [
        {
          "data": {
            "text/plain": [
              "(92106,)"
            ]
          },
          "execution_count": 23,
          "metadata": {},
          "output_type": "execute_result"
        }
      ],
      "source": [
        "# Lets store users who had at least rated more than 200 books\n",
        "x = df_book_rating['User_ID'].value_counts() > 200\n",
        "x.shape"
      ]
    },
    {
      "cell_type": "code",
      "execution_count": 24,
      "metadata": {
        "id": "dp377Ris8LMS"
      },
      "outputs": [],
      "source": [
        "#y stores the index of users who have rated more than 200 books\n",
        "y= x[x].index"
      ]
    },
    {
      "cell_type": "code",
      "execution_count": 25,
      "metadata": {
        "id": "9j8D0Lym8jbJ"
      },
      "outputs": [],
      "source": [
        "# Filter the original DataFrame to include only ratings from users in y\n",
        "filtered_rating = df_book_rating[df_book_rating['User_ID'].isin(y)]"
      ]
    },
    {
      "cell_type": "code",
      "execution_count": 26,
      "metadata": {
        "id": "Ne1ChFPN8jeI"
      },
      "outputs": [],
      "source": [
        "# Group the filtered ratings by Book_Title and count the ratings per book\n",
        "# Then, store books with at least 50 ratings in famous_books\n",
        "y = filtered_rating.groupby('Book_Title').count()['Book_Rating']>=50\n",
        "famous_books = y[y].index"
      ]
    },
    {
      "cell_type": "code",
      "execution_count": 27,
      "metadata": {
        "colab": {
          "base_uri": "https://localhost:8080/"
        },
        "id": "xY6bVn1q8jgx",
        "outputId": "c71171c6-e4f9-403d-a71e-4f0f0ba52429"
      },
      "outputs": [
        {
          "data": {
            "text/plain": [
              "(58586, 10)"
            ]
          },
          "execution_count": 27,
          "metadata": {},
          "output_type": "execute_result"
        }
      ],
      "source": [
        "#Filter the 'filtered_rating' DataFrame to include only books in 'famous_books'\n",
        "final_ratings = filtered_rating[filtered_rating['Book_Title'].isin(famous_books)]\n",
        "final_ratings.shape"
      ]
    },
    {
      "cell_type": "code",
      "execution_count": 28,
      "metadata": {
        "colab": {
          "base_uri": "https://localhost:8080/",
          "height": 204
        },
        "id": "GCRP-XWP8jjF",
        "outputId": "c529b7e3-cdd8-4ae7-d4c6-7793a772b797"
      },
      "outputs": [
        {
          "data": {
            "text/html": [
              "<div>\n",
              "<style scoped>\n",
              "    .dataframe tbody tr th:only-of-type {\n",
              "        vertical-align: middle;\n",
              "    }\n",
              "\n",
              "    .dataframe tbody tr th {\n",
              "        vertical-align: top;\n",
              "    }\n",
              "\n",
              "    .dataframe thead th {\n",
              "        text-align: right;\n",
              "    }\n",
              "</style>\n",
              "<table border=\"1\" class=\"dataframe\">\n",
              "  <thead>\n",
              "    <tr style=\"text-align: right;\">\n",
              "      <th></th>\n",
              "      <th>ISBN</th>\n",
              "      <th>Book_Title</th>\n",
              "      <th>Author</th>\n",
              "      <th>Publication_Year</th>\n",
              "      <th>Publisher</th>\n",
              "      <th>Image_URL_Small</th>\n",
              "      <th>Image_URL_Medium</th>\n",
              "      <th>Image_URL_Large</th>\n",
              "      <th>User_ID</th>\n",
              "      <th>Book_Rating</th>\n",
              "    </tr>\n",
              "  </thead>\n",
              "  <tbody>\n",
              "    <tr>\n",
              "      <th>31</th>\n",
              "      <td>0399135782</td>\n",
              "      <td>The Kitchen God's Wife</td>\n",
              "      <td>Amy Tan</td>\n",
              "      <td>1991</td>\n",
              "      <td>Putnam Pub Group</td>\n",
              "      <td>http://images.amazon.com/images/P/0399135782.0...</td>\n",
              "      <td>http://images.amazon.com/images/P/0399135782.0...</td>\n",
              "      <td>http://images.amazon.com/images/P/0399135782.0...</td>\n",
              "      <td>11676</td>\n",
              "      <td>9</td>\n",
              "    </tr>\n",
              "    <tr>\n",
              "      <th>33</th>\n",
              "      <td>0399135782</td>\n",
              "      <td>The Kitchen God's Wife</td>\n",
              "      <td>Amy Tan</td>\n",
              "      <td>1991</td>\n",
              "      <td>Putnam Pub Group</td>\n",
              "      <td>http://images.amazon.com/images/P/0399135782.0...</td>\n",
              "      <td>http://images.amazon.com/images/P/0399135782.0...</td>\n",
              "      <td>http://images.amazon.com/images/P/0399135782.0...</td>\n",
              "      <td>36836</td>\n",
              "      <td>0</td>\n",
              "    </tr>\n",
              "    <tr>\n",
              "      <th>34</th>\n",
              "      <td>0399135782</td>\n",
              "      <td>The Kitchen God's Wife</td>\n",
              "      <td>Amy Tan</td>\n",
              "      <td>1991</td>\n",
              "      <td>Putnam Pub Group</td>\n",
              "      <td>http://images.amazon.com/images/P/0399135782.0...</td>\n",
              "      <td>http://images.amazon.com/images/P/0399135782.0...</td>\n",
              "      <td>http://images.amazon.com/images/P/0399135782.0...</td>\n",
              "      <td>46398</td>\n",
              "      <td>9</td>\n",
              "    </tr>\n",
              "    <tr>\n",
              "      <th>38</th>\n",
              "      <td>0399135782</td>\n",
              "      <td>The Kitchen God's Wife</td>\n",
              "      <td>Amy Tan</td>\n",
              "      <td>1991</td>\n",
              "      <td>Putnam Pub Group</td>\n",
              "      <td>http://images.amazon.com/images/P/0399135782.0...</td>\n",
              "      <td>http://images.amazon.com/images/P/0399135782.0...</td>\n",
              "      <td>http://images.amazon.com/images/P/0399135782.0...</td>\n",
              "      <td>113270</td>\n",
              "      <td>0</td>\n",
              "    </tr>\n",
              "    <tr>\n",
              "      <th>39</th>\n",
              "      <td>0399135782</td>\n",
              "      <td>The Kitchen God's Wife</td>\n",
              "      <td>Amy Tan</td>\n",
              "      <td>1991</td>\n",
              "      <td>Putnam Pub Group</td>\n",
              "      <td>http://images.amazon.com/images/P/0399135782.0...</td>\n",
              "      <td>http://images.amazon.com/images/P/0399135782.0...</td>\n",
              "      <td>http://images.amazon.com/images/P/0399135782.0...</td>\n",
              "      <td>113519</td>\n",
              "      <td>0</td>\n",
              "    </tr>\n",
              "  </tbody>\n",
              "</table>\n",
              "</div>"
            ],
            "text/plain": [
              "          ISBN              Book_Title   Author Publication_Year  \\\n",
              "31  0399135782  The Kitchen God's Wife  Amy Tan             1991   \n",
              "33  0399135782  The Kitchen God's Wife  Amy Tan             1991   \n",
              "34  0399135782  The Kitchen God's Wife  Amy Tan             1991   \n",
              "38  0399135782  The Kitchen God's Wife  Amy Tan             1991   \n",
              "39  0399135782  The Kitchen God's Wife  Amy Tan             1991   \n",
              "\n",
              "           Publisher                                    Image_URL_Small  \\\n",
              "31  Putnam Pub Group  http://images.amazon.com/images/P/0399135782.0...   \n",
              "33  Putnam Pub Group  http://images.amazon.com/images/P/0399135782.0...   \n",
              "34  Putnam Pub Group  http://images.amazon.com/images/P/0399135782.0...   \n",
              "38  Putnam Pub Group  http://images.amazon.com/images/P/0399135782.0...   \n",
              "39  Putnam Pub Group  http://images.amazon.com/images/P/0399135782.0...   \n",
              "\n",
              "                                     Image_URL_Medium  \\\n",
              "31  http://images.amazon.com/images/P/0399135782.0...   \n",
              "33  http://images.amazon.com/images/P/0399135782.0...   \n",
              "34  http://images.amazon.com/images/P/0399135782.0...   \n",
              "38  http://images.amazon.com/images/P/0399135782.0...   \n",
              "39  http://images.amazon.com/images/P/0399135782.0...   \n",
              "\n",
              "                                      Image_URL_Large  User_ID  Book_Rating  \n",
              "31  http://images.amazon.com/images/P/0399135782.0...    11676            9  \n",
              "33  http://images.amazon.com/images/P/0399135782.0...    36836            0  \n",
              "34  http://images.amazon.com/images/P/0399135782.0...    46398            9  \n",
              "38  http://images.amazon.com/images/P/0399135782.0...   113270            0  \n",
              "39  http://images.amazon.com/images/P/0399135782.0...   113519            0  "
            ]
          },
          "execution_count": 28,
          "metadata": {},
          "output_type": "execute_result"
        }
      ],
      "source": [
        "final_ratings.head()"
      ]
    },
    {
      "cell_type": "code",
      "execution_count": 29,
      "metadata": {
        "colab": {
          "base_uri": "https://localhost:8080/",
          "height": 204
        },
        "id": "iUenZPrRrfY0",
        "outputId": "80191c80-6696-45e6-e384-b9ff3af4c435"
      },
      "outputs": [
        {
          "data": {
            "text/html": [
              "<div>\n",
              "<style scoped>\n",
              "    .dataframe tbody tr th:only-of-type {\n",
              "        vertical-align: middle;\n",
              "    }\n",
              "\n",
              "    .dataframe tbody tr th {\n",
              "        vertical-align: top;\n",
              "    }\n",
              "\n",
              "    .dataframe thead th {\n",
              "        text-align: right;\n",
              "    }\n",
              "</style>\n",
              "<table border=\"1\" class=\"dataframe\">\n",
              "  <thead>\n",
              "    <tr style=\"text-align: right;\">\n",
              "      <th></th>\n",
              "      <th>ISBN</th>\n",
              "      <th>Book_Title</th>\n",
              "      <th>Author</th>\n",
              "      <th>Publication_Year</th>\n",
              "      <th>Publisher</th>\n",
              "      <th>Image_URL_Small</th>\n",
              "      <th>Image_URL_Medium</th>\n",
              "      <th>Image_URL_Large</th>\n",
              "      <th>User_ID</th>\n",
              "      <th>Book_Rating</th>\n",
              "    </tr>\n",
              "  </thead>\n",
              "  <tbody>\n",
              "    <tr>\n",
              "      <th>0</th>\n",
              "      <td>0195153448</td>\n",
              "      <td>Classical Mythology</td>\n",
              "      <td>Mark P. O. Morford</td>\n",
              "      <td>2002</td>\n",
              "      <td>Oxford University Press</td>\n",
              "      <td>http://images.amazon.com/images/P/0195153448.0...</td>\n",
              "      <td>http://images.amazon.com/images/P/0195153448.0...</td>\n",
              "      <td>http://images.amazon.com/images/P/0195153448.0...</td>\n",
              "      <td>2</td>\n",
              "      <td>0</td>\n",
              "    </tr>\n",
              "    <tr>\n",
              "      <th>1</th>\n",
              "      <td>0002005018</td>\n",
              "      <td>Clara Callan</td>\n",
              "      <td>Richard Bruce Wright</td>\n",
              "      <td>2001</td>\n",
              "      <td>HarperFlamingo Canada</td>\n",
              "      <td>http://images.amazon.com/images/P/0002005018.0...</td>\n",
              "      <td>http://images.amazon.com/images/P/0002005018.0...</td>\n",
              "      <td>http://images.amazon.com/images/P/0002005018.0...</td>\n",
              "      <td>8</td>\n",
              "      <td>5</td>\n",
              "    </tr>\n",
              "    <tr>\n",
              "      <th>2</th>\n",
              "      <td>0002005018</td>\n",
              "      <td>Clara Callan</td>\n",
              "      <td>Richard Bruce Wright</td>\n",
              "      <td>2001</td>\n",
              "      <td>HarperFlamingo Canada</td>\n",
              "      <td>http://images.amazon.com/images/P/0002005018.0...</td>\n",
              "      <td>http://images.amazon.com/images/P/0002005018.0...</td>\n",
              "      <td>http://images.amazon.com/images/P/0002005018.0...</td>\n",
              "      <td>11400</td>\n",
              "      <td>0</td>\n",
              "    </tr>\n",
              "    <tr>\n",
              "      <th>3</th>\n",
              "      <td>0002005018</td>\n",
              "      <td>Clara Callan</td>\n",
              "      <td>Richard Bruce Wright</td>\n",
              "      <td>2001</td>\n",
              "      <td>HarperFlamingo Canada</td>\n",
              "      <td>http://images.amazon.com/images/P/0002005018.0...</td>\n",
              "      <td>http://images.amazon.com/images/P/0002005018.0...</td>\n",
              "      <td>http://images.amazon.com/images/P/0002005018.0...</td>\n",
              "      <td>11676</td>\n",
              "      <td>8</td>\n",
              "    </tr>\n",
              "    <tr>\n",
              "      <th>4</th>\n",
              "      <td>0002005018</td>\n",
              "      <td>Clara Callan</td>\n",
              "      <td>Richard Bruce Wright</td>\n",
              "      <td>2001</td>\n",
              "      <td>HarperFlamingo Canada</td>\n",
              "      <td>http://images.amazon.com/images/P/0002005018.0...</td>\n",
              "      <td>http://images.amazon.com/images/P/0002005018.0...</td>\n",
              "      <td>http://images.amazon.com/images/P/0002005018.0...</td>\n",
              "      <td>41385</td>\n",
              "      <td>0</td>\n",
              "    </tr>\n",
              "  </tbody>\n",
              "</table>\n",
              "</div>"
            ],
            "text/plain": [
              "         ISBN           Book_Title                Author Publication_Year  \\\n",
              "0  0195153448  Classical Mythology    Mark P. O. Morford             2002   \n",
              "1  0002005018         Clara Callan  Richard Bruce Wright             2001   \n",
              "2  0002005018         Clara Callan  Richard Bruce Wright             2001   \n",
              "3  0002005018         Clara Callan  Richard Bruce Wright             2001   \n",
              "4  0002005018         Clara Callan  Richard Bruce Wright             2001   \n",
              "\n",
              "                 Publisher                                    Image_URL_Small  \\\n",
              "0  Oxford University Press  http://images.amazon.com/images/P/0195153448.0...   \n",
              "1    HarperFlamingo Canada  http://images.amazon.com/images/P/0002005018.0...   \n",
              "2    HarperFlamingo Canada  http://images.amazon.com/images/P/0002005018.0...   \n",
              "3    HarperFlamingo Canada  http://images.amazon.com/images/P/0002005018.0...   \n",
              "4    HarperFlamingo Canada  http://images.amazon.com/images/P/0002005018.0...   \n",
              "\n",
              "                                    Image_URL_Medium  \\\n",
              "0  http://images.amazon.com/images/P/0195153448.0...   \n",
              "1  http://images.amazon.com/images/P/0002005018.0...   \n",
              "2  http://images.amazon.com/images/P/0002005018.0...   \n",
              "3  http://images.amazon.com/images/P/0002005018.0...   \n",
              "4  http://images.amazon.com/images/P/0002005018.0...   \n",
              "\n",
              "                                     Image_URL_Large  User_ID  Book_Rating  \n",
              "0  http://images.amazon.com/images/P/0195153448.0...        2            0  \n",
              "1  http://images.amazon.com/images/P/0002005018.0...        8            5  \n",
              "2  http://images.amazon.com/images/P/0002005018.0...    11400            0  \n",
              "3  http://images.amazon.com/images/P/0002005018.0...    11676            8  \n",
              "4  http://images.amazon.com/images/P/0002005018.0...    41385            0  "
            ]
          },
          "execution_count": 29,
          "metadata": {},
          "output_type": "execute_result"
        }
      ],
      "source": [
        "df_book_rating.head()"
      ]
    },
    {
      "cell_type": "code",
      "execution_count": 30,
      "metadata": {
        "colab": {
          "base_uri": "https://localhost:8080/"
        },
        "id": "UfwElQAkrfbg",
        "outputId": "cf65acc1-80ec-45dc-a95c-aab423798384"
      },
      "outputs": [
        {
          "data": {
            "text/plain": [
              "(1031136, 10)"
            ]
          },
          "execution_count": 30,
          "metadata": {},
          "output_type": "execute_result"
        }
      ],
      "source": [
        "df_book_rating.shape"
      ]
    },
    {
      "cell_type": "code",
      "execution_count": 31,
      "metadata": {
        "colab": {
          "base_uri": "https://localhost:8080/",
          "height": 802
        },
        "id": "sCBM6Z6VkOiz",
        "outputId": "d9828e9c-64f4-4c89-e2db-05d45b92dffb"
      },
      "outputs": [
        {
          "data": {
            "image/png": "[encoded data removed]",
            "text/plain": [
              "<Figure size 1000x600 with 1 Axes>"
            ]
          },
          "metadata": {},
          "output_type": "display_data"
        }
      ],
      "source": [
        "top_publishers = df_book['Publisher'].value_counts().head(10)\n",
        "\n",
        "# Create a bar chart\n",
        "plt.figure(figsize=(10, 6))\n",
        "sns.barplot(top_publishers,palette='magma')\n",
        "plt.title('Top 10 Publishers with the Most Books')\n",
        "plt.xlabel('Publisher')\n",
        "plt.ylabel('Number of Books')\n",
        "plt.xticks(rotation=45)\n",
        "plt.show()"
      ]
    },
    {
      "cell_type": "markdown",
      "metadata": {
        "id": "MT0_iLNBMYoU"
      },
      "source": [
        "#### Insights:\n",
        "Harlequin dominates the top 10 publishers with over 7,000 books, far exceeding others like Silhouette and Pocket, which each have around 3,000 to 4,000 books. The remaining publishers have a more evenly distributed book count, indicating Harlequin's strong lead in the market."
      ]
    },
    {
      "cell_type": "code",
      "execution_count": 32,
      "metadata": {
        "colab": {
          "base_uri": "https://localhost:8080/",
          "height": 781
        },
        "id": "JJz6fUWmkOlG",
        "outputId": "c149b6a9-71b8-43cc-ea2d-8fc6ff12fdfb"
      },
      "outputs": [
        {
          "data": {
            "image/png": "[encoded data removed]",
            "text/plain": [
              "<Figure size 1000x600 with 1 Axes>"
            ]
          },
          "metadata": {},
          "output_type": "display_data"
        }
      ],
      "source": [
        "top_authors = df_book['Author'].value_counts().head(10)\n",
        "\n",
        "# Create a bar chart\n",
        "plt.figure(figsize=(10, 6))\n",
        "sns.barplot(top_authors,palette='magma')\n",
        "plt.title('Top 10 Authors with the Most Books')\n",
        "plt.xlabel('Authors')\n",
        "plt.ylabel('Number of Books')\n",
        "plt.xticks(rotation=45)\n",
        "plt.show()"
      ]
    },
    {
      "cell_type": "markdown",
      "metadata": {
        "id": "yQghaLSHMctQ"
      },
      "source": [
        "#### Insights :\n",
        "Agatha Christie is the most prolific author with over 600 books, followed by William Shakespeare and Stephen King, who each have around 500 books. The other top 10 authors have between 400 to 500 books, showing Christie's clear lead."
      ]
    },
    {
      "cell_type": "code",
      "execution_count": 33,
      "metadata": {
        "colab": {
          "base_uri": "https://localhost:8080/",
          "height": 726
        },
        "id": "EhKNR29wkOni",
        "outputId": "4dfab36a-03cd-42a0-bb75-4b2d5893afcd"
      },
      "outputs": [
        {
          "data": {
            "image/png": "[encoded data removed]",
            "text/plain": [
              "<Figure size 1000x600 with 1 Axes>"
            ]
          },
          "metadata": {},
          "output_type": "display_data"
        }
      ],
      "source": [
        "# Group the data by 'Year-Of-Publication' and count the number of books in each year\n",
        "year_counts = df_book.groupby('Publication_Year').size().sort_values(ascending=False)\n",
        "\n",
        "# Top 10 years with the most books published\n",
        "top_10_years = year_counts.head(10)\n",
        "\n",
        "# Convert years to integers\n",
        "top_10_years.index = top_10_years.index.astype(int)\n",
        "\n",
        "# Create a bar chart\n",
        "plt.figure(figsize=(10, 6))\n",
        "sns.barplot(x=top_10_years.index, y=top_10_years.values, order=top_10_years.index, palette='magma')\n",
        "plt.title('Number of Books Published by Year')\n",
        "plt.xlabel('Year of Publication')\n",
        "plt.ylabel('Number of Books')\n",
        "\n",
        "plt.xticks(rotation=45)\n",
        "plt.tight_layout()\n",
        "\n",
        "plt.show()\n"
      ]
    },
    {
      "cell_type": "markdown",
      "metadata": {
        "id": "j3jbKFgUMh6r"
      },
      "source": [
        "#### Insights :\n",
        "The bar chart shows that the year 2002 had the highest number of books published, followed closely by 2001 and 1999. The number of published books slightly decreases in subsequent years, with 1994 having the lowest count among the top 10 years. This trend indicates a peak in book publishing around the early 2000s."
      ]
    },
    {
      "cell_type": "code",
      "execution_count": 34,
      "metadata": {
        "colab": {
          "base_uri": "https://localhost:8080/",
          "height": 726
        },
        "id": "xhAUYxqAptnX",
        "outputId": "5e2a3178-c140-464c-b6ab-a14187ca2989"
      },
      "outputs": [
        {
          "data": {
            "image/png": "[encoded data removed]",
            "text/plain": [
              "<Figure size 1000x600 with 1 Axes>"
            ]
          },
          "metadata": {},
          "output_type": "display_data"
        }
      ],
      "source": [
        "# Calculate the count of ratings for each book\n",
        "book_ratings_count = df_book_rating.groupby('Book_Title').size().sort_values(ascending=False).head(10)\n",
        "\n",
        "# Get the top 10 popular books based on ratings count\n",
        "top_10_popular_books = df_book_rating[df_book_rating['Book_Title'].isin(book_ratings_count.index)]\n",
        "\n",
        "# Create a bar chart to visualize the top 10 popular books\n",
        "plt.figure(figsize=(10, 6))\n",
        "sns.barplot(x=top_10_popular_books['Book_Title'].unique(), y=book_ratings_count, palette='magma')\n",
        "plt.title('Top 10 Popular Books')\n",
        "plt.xlabel('Book Title')\n",
        "plt.ylabel('Number of Ratings')\n",
        "plt.xticks(rotation=45, ha='right')\n",
        "plt.tight_layout()\n",
        "plt.show()\n"
      ]
    },
    {
      "cell_type": "markdown",
      "metadata": {
        "id": "u0v-fcNHMogk"
      },
      "source": [
        "#### Insights :\n",
        "The bar chart shows the top 10 most popular books based on the number of ratings. \"Wild Animus\" is by far the most popular, with over 2,500 ratings, significantly surpassing the other books. \"Angels & Demons\" follows with around 1,000 ratings, while the remaining books, such as \"Bridget Jones's Diary\" and \"The Da Vinci Code,\" have between 600 to 800 ratings. This indicates that \"Wild Animus\" has a much broader readership engagement compared to the other top titles."
      ]
    },
    {
      "cell_type": "code",
      "execution_count": 35,
      "metadata": {
        "colab": {
          "base_uri": "https://localhost:8080/",
          "height": 632
        },
        "id": "s0__6SKzNOt_",
        "outputId": "71d70e03-3a35-4e97-8a2c-32ea3a346efc"
      },
      "outputs": [
        {
          "data": {
            "image/png": "[encoded data removed]",
            "text/plain": [
              "<Figure size 1000x600 with 1 Axes>"
            ]
          },
          "metadata": {},
          "output_type": "display_data"
        }
      ],
      "source": [
        "# Distribution of Ratings\n",
        "plt.figure(figsize=(10, 6))\n",
        "sns.histplot(df_rating['Book_Rating'], bins=10, kde=False, palette='magma')\n",
        "plt.title('Distribution of Book Ratings')\n",
        "plt.xlabel('Rating')\n",
        "plt.ylabel('Count')\n",
        "plt.grid(True)\n",
        "plt.show()"
      ]
    },
    {
      "cell_type": "markdown",
      "metadata": {
        "id": "O9twV944NoBg"
      },
      "source": [
        "#### Insights :\n",
        "The histogram shows that the majority of book ratings are at the extremes, with a large concentration at 0 and a significant number at 10, indicating polarized user opinions. Most other ratings are much less frequent."
      ]
    },
    {
      "cell_type": "code",
      "execution_count": 36,
      "metadata": {
        "colab": {
          "base_uri": "https://localhost:8080/",
          "height": 683
        },
        "id": "-6iLlDh4NPMv",
        "outputId": "933ffec3-5ce7-4aca-a0cb-b622eb0f7631"
      },
      "outputs": [
        {
          "data": {
            "image/png": "[encoded data removed]",
            "text/plain": [
              "<Figure size 1000x600 with 1 Axes>"
            ]
          },
          "metadata": {},
          "output_type": "display_data"
        }
      ],
      "source": [
        "# Active Users\n",
        "most_active_users = df_rating['User_ID'].value_counts().head(10)\n",
        "plt.figure(figsize=(10, 6))\n",
        "sns.barplot(x=most_active_users.values, y=most_active_users.index, palette='magma')\n",
        "plt.title('Top 10 Most Active Users')\n",
        "plt.xlabel('Number of Ratings')\n",
        "plt.ylabel('User ID')\n",
        "plt.show()"
      ]
    },
    {
      "cell_type": "markdown",
      "metadata": {
        "id": "Hqf5XdVSNrGJ"
      },
      "source": [
        "#### Insights :\n",
        "The bar chart shows that one user is overwhelmingly the most active, with over 250,000 ratings, while the other top 10 users have significantly fewer ratings, ranging from around 136,000 to 50,000. This indicates a highly skewed distribution of activity among the most active users."
      ]
    },
    {
      "cell_type": "code",
      "execution_count": 37,
      "metadata": {
        "id": "ODOBLEi0ptqH"
      },
      "outputs": [],
      "source": [
        "# Extract the country from the 'Location' column, assuming it's the last part after a comma\n",
        "df_user['Country'] = df_user['Location'].apply(lambda x: x.split(',')[-1].strip().lower() if pd.notnull(x) else 'unknown')\n",
        "\n",
        "# Display the first few entries of the 'Country' column to verify the extraction\n",
        "df_user['Country'].head()\n",
        "\n",
        "# Count the occurrences of each country in the 'Country' column\n",
        "country_counts = df_user['Country'].value_counts()\n"
      ]
    },
    {
      "cell_type": "code",
      "execution_count": 38,
      "metadata": {
        "colab": {
          "base_uri": "https://localhost:8080/",
          "height": 562
        },
        "id": "fDbDAT0dxqj5",
        "outputId": "838b1696-97fa-46c4-8fac-0429a365a1e8"
      },
      "outputs": [
        {
          "data": {
            "text/plain": [
              "<Axes: xlabel='Country'>"
            ]
          },
          "execution_count": 38,
          "metadata": {},
          "output_type": "execute_result"
        },
        {
          "data": {
            "image/png": "[encoded data removed]",
            "text/plain": [
              "<Figure size 640x480 with 1 Axes>"
            ]
          },
          "metadata": {},
          "output_type": "display_data"
        }
      ],
      "source": [
        "# top 10 user location\n",
        "df_user['Country'].value_counts().head(10).plot(kind='bar')"
      ]
    },
    {
      "cell_type": "markdown",
      "metadata": {
        "id": "sNRBIt4TM_mc"
      },
      "source": [
        "#### Insights :\n",
        "The bar chart shows that the user base is overwhelmingly dominated by the USA, with more than 140,000 users. Canada, the United Kingdom, and Germany follow, but with significantly smaller user bases. This indicates that the majority of users are concentrated in the USA, with other countries contributing a much smaller portion of the overall user population."
      ]
    },
    {
      "cell_type": "code",
      "execution_count": 40,
      "metadata": {
        "colab": {
          "base_uri": "https://localhost:8080/",
          "height": 542
        },
        "id": "Z4qH9O6MptvE",
        "outputId": "d05d157e-f340-49b7-b67b-b7662587c96a"
      },
      "outputs": [
        {
          "data": {
            "application/vnd.plotly.v1+json": {
              "config": {
                "plotlyServerURL": "https://plot.ly"
              },
              "data": [
                {
                  "coloraxis": "coloraxis",
                  "geo": "geo",
                  "hovertemplate": "locations=%{location}<br>color=%{z}<extra></extra>",
                  "locationmode": "country names",
                  "locations": [
                    "usa",
                    "canada",
                    "united kingdom",
                    "germany",
                    "spain",
                    "australia",
                    "italy",
                    "",
                    "france",
                    "portugal",
                    "new zealand",
                    "netherlands",
                    "switzerland",
                    "brazil",
                    "china",
                    "sweden",
                    "india",
                    "austria",
                    "malaysia",
                    "argentina",
                    "singapore",
                    "finland",
                    "mexico",
                    "belgium",
                    "denmark",
                    "ireland",
                    "philippines",
                    "turkey",
                    "poland",
                    "pakistan",
                    "greece",
                    "iran",
                    "chile",
                    "romania",
                    "israel",
                    "south africa",
                    "indonesia",
                    "norway",
                    "japan",
                    "croatia",
                    "nigeria",
                    "south korea",
                    "slovakia",
                    "czech republic",
                    "russia",
                    "yugoslavia",
                    "hong kong",
                    "costa rica",
                    "taiwan",
                    "slovenia",
                    "peru",
                    "vietnam",
                    "venezuela",
                    "egypt",
                    "bulgaria",
                    "colombia",
                    "spain\"",
                    "luxembourg",
                    "hungary",
                    "thailand",
                    "ghana",
                    "saudi arabia",
                    "portugal\"",
                    "united arab emirates",
                    "españa",
                    "bosnia and herzegovina",
                    "sri lanka",
                    "denmark\"",
                    "iceland",
                    "sweden\"",
                    "paraguay",
                    "guatemala",
                    "bangladesh",
                    "andorra",
                    "ukraine",
                    "lithuania",
                    "latvia",
                    "bahamas",
                    "bolivia",
                    "jamaica",
                    "panama",
                    "kuwait",
                    "ecuador",
                    "lebanon",
                    "cuba",
                    "morocco",
                    "la france",
                    "trinidad and tobago",
                    "malta",
                    "france\"",
                    "dominican republic",
                    "albania",
                    "afghanistan",
                    "macedonia",
                    "scotland",
                    "l`italia",
                    "england",
                    "germany\"",
                    "urugua",
                    "algeria",
                    "antarctica",
                    "honduras",
                    "cyprus",
                    "deutschland",
                    "kenya",
                    "bermuda",
                    "netherlands\"",
                    "el salvador",
                    "oman",
                    "zimbabwe",
                    "uzbekistan",
                    "new zealand\"",
                    "belize",
                    "jordan",
                    "estonia",
                    "nepal",
                    "puerto rico",
                    "uruguay",
                    "finland\"",
                    "mauritius",
                    "u.a.e",
                    "grenada",
                    "brunei",
                    "qatar",
                    "barbados",
                    "united kingdom\"",
                    "caribbean sea",
                    "nicaragua",
                    "switzerland\"",
                    "burma",
                    "wales",
                    "jersey",
                    "bahrain",
                    "n/a",
                    "iraq",
                    "georgia",
                    "belarus",
                    "united states",
                    "catalunya",
                    "austria\"",
                    "benin",
                    "ethiopia",
                    "syria",
                    "kazakhstan",
                    "fiji",
                    "east africa",
                    "india\"",
                    "cayman islands",
                    "guernsey",
                    "euskal herria",
                    "iran\"",
                    "mozambique",
                    "italia",
                    "azerbaijan",
                    "alderney",
                    "cote d`ivoire",
                    "\"",
                    "mexico\"",
                    "greece\"",
                    "guyana",
                    "eritrea",
                    "sudan",
                    "philippines\"",
                    "armenia",
                    "catalonia",
                    "moldova",
                    "antigua and barbuda",
                    "brasil",
                    "cameroon",
                    "la argentina",
                    "öð¹ú",
                    "papua new guinea",
                    "yemen",
                    "gabon",
                    "monaco",
                    "botswana",
                    "tunisia",
                    "norway\"",
                    "ireland\"",
                    "uganda",
                    "espaã±a",
                    "galiza",
                    "brazil\"",
                    "cape verde",
                    "laos",
                    "turkey\"",
                    "cambodia",
                    "dominica",
                    "burkina faso",
                    "netherlands antilles",
                    "niger",
                    "malaysia\"",
                    "uk",
                    "romania\"",
                    "tanzania",
                    "bangladesh\"",
                    "togo",
                    "rwanda",
                    "nigeria\"",
                    "croatia\"",
                    "angola",
                    "senegal",
                    "italy\"",
                    "chile\"",
                    "saint lucia",
                    "poland\"",
                    "argentina\"",
                    "slovenia\"",
                    "espaã?â±a",
                    "zambia",
                    "samoa",
                    "lombardia",
                    "lesotho",
                    "kyrgyzstan",
                    "maricopa",
                    "suisse",
                    "north korea",
                    "belgium\"",
                    "saint vincent and the grenadines",
                    "suriname",
                    "aruba",
                    "congo",
                    "korea",
                    "basque country",
                    "mongolia",
                    "us",
                    "trinidad",
                    "lazio",
                    "israel\"",
                    "bhutan",
                    "egypt\"",
                    "libya",
                    "belgique",
                    "the",
                    "singapore\"",
                    "europe",
                    "tajikistan",
                    "vanuatu",
                    "namibia",
                    "czech republic\"",
                    "quit",
                    "kosovo",
                    "serbia",
                    "san marino",
                    "slovakia\"",
                    "indonesia\"",
                    "maldives",
                    "colombia\"",
                    "holy see",
                    "macau",
                    "iceland\"",
                    "swaziland",
                    "haiti",
                    "united states of america",
                    "le canada",
                    "la belgique",
                    "c",
                    "saint kitts and nevis",
                    "holland",
                    "solomon islands",
                    "guinea",
                    "nrw",
                    "turkmenistan",
                    "sri lanka\"",
                    "the netherlands",
                    "vietnam\"",
                    "american samoa",
                    "liberia",
                    "hungary\"",
                    "ä¸­å?½",
                    "deutschland\"",
                    "méxico",
                    "marshall islands",
                    "america",
                    "djibouti",
                    "sardegna",
                    "chad",
                    "china\"",
                    "trinidad and tobago\"",
                    "universe",
                    "guam",
                    "andorra\"",
                    "malawi",
                    "tonga",
                    "luxembourg\"",
                    "uganda\"",
                    "srilanka",
                    "serbia and montenegro",
                    "channel islands",
                    "cape verde\"",
                    "hong kong\"",
                    "mali",
                    "space",
                    "british virgin islands",
                    "sierra leone",
                    "u.s. virgin islands",
                    "guinea-bissau",
                    "polk",
                    "palau",
                    "st. vincent and the grenadines",
                    "micronesia",
                    "mã?â©xico",
                    "costa rica\"",
                    "smith",
                    "neverland",
                    "pueblo",
                    "rsa",
                    "northern ireland",
                    "west yorkshire",
                    "republic of panama",
                    "phila",
                    "türkiye",
                    "il canada",
                    "palestine",
                    "maracopa",
                    "espanha / galiza",
                    "xxxxxx",
                    "p.r.c",
                    "vicenza",
                    "la chine eternelle!",
                    "pippo",
                    "united stated",
                    "california",
                    "c.a.",
                    "burlington",
                    "wonderful usa",
                    "yanhill",
                    "uae",
                    "nh",
                    "lj",
                    "london",
                    "l",
                    "canada eh",
                    "euskadi",
                    "cadd0",
                    "exactly where i am",
                    "bosnia",
                    "phillipines",
                    "ussurfing",
                    "h.u.g.",
                    "s.corea",
                    "livingston",
                    "somewherein space",
                    "der",
                    "spotsylvania",
                    "uyo",
                    "clackamas",
                    "pender",
                    "united state",
                    "vorce",
                    "unite states",
                    "fred",
                    "usa\"",
                    "malaysian",
                    "p.r. china",
                    "shelby",
                    "europa",
                    "newzealand",
                    "ventura",
                    "csa",
                    "moçambique",
                    "u k",
                    "lecce",
                    "oakland",
                    "u",
                    "sardinia",
                    "jamaica\"",
                    "phippines",
                    "prc",
                    "canda",
                    "burma\"",
                    "copenhagen",
                    "23232",
                    "harvatija",
                    "usa (currently living in england)",
                    "roma",
                    "indiai",
                    "onondaga nation",
                    "solano",
                    "madagascar",
                    "austbritania",
                    "pakistan\"",
                    "cananda",
                    "queensland",
                    "hungary and usa",
                    "united kindgdom",
                    "mauritius\"",
                    "_ brasil",
                    "ukrain",
                    "cook",
                    "calabria",
                    "libya\"",
                    "u.a.e\"",
                    "australii",
                    "kiribati",
                    "fontana",
                    "u.",
                    "z",
                    "l`algérie",
                    "mordor",
                    "uusa",
                    "johnson",
                    "rep san marino",
                    "united sates",
                    "fulton",
                    "geermany",
                    "fort bend",
                    "st.thomasi",
                    "w. malaysia",
                    "bih",
                    "liushi",
                    "mozambique\"",
                    "tyrtyrt",
                    "\\\"n/a\\\"\"",
                    "españa\"",
                    "yakima",
                    "the gambia",
                    "cape may",
                    "disgruntled states of america",
                    "tanzania\"",
                    "kern",
                    "ahrensburg",
                    "thing",
                    "we`re global!",
                    "fairyland",
                    "autralia",
                    "le madagascar",
                    "no more",
                    "butler",
                    "asturies",
                    "hernando",
                    "la svizzera",
                    "bkk",
                    "victoria",
                    "r.o.c.",
                    "rep. san marino",
                    "yunling",
                    "germay",
                    "&#20013;&#22269;",
                    "nl",
                    "united staes",
                    "dauphin",
                    "galiza neghra",
                    "chinaöð¹ú",
                    "x",
                    "lane",
                    "people`s republic of china",
                    "home of the van!!",
                    "01776",
                    "citrus.",
                    "p r china",
                    "everywhere and anywhere",
                    "allen",
                    "st. clair",
                    "swazilandia",
                    "in",
                    "los estados unidos de norte america",
                    "north carolina",
                    "philippinies",
                    "palm beach",
                    "distrito federal",
                    "europe.",
                    "sao tome and principe",
                    "s.africa",
                    "bavaria",
                    "pistlavakia",
                    "fortaleza",
                    "courtenay",
                    "slovak republik",
                    "houston",
                    "trinidad/tobago.",
                    "santa barbara",
                    "bucks",
                    "buncombe",
                    "30064",
                    "maine",
                    "phils",
                    "u.k.",
                    "russian federation",
                    "mauritania",
                    "toscana",
                    "san mateo",
                    "madrid",
                    "nz",
                    "whatcom",
                    "venezuela\"",
                    "ohio",
                    "vatican city",
                    "tobago",
                    "85021",
                    "saint luica",
                    "davidson",
                    "a",
                    "lee",
                    "unknown",
                    "\\n/a\\\"\"",
                    "baden-württemberg",
                    "texas",
                    "orange co",
                    "lithuania\"",
                    "xinyu",
                    "morocco\"",
                    "hidalgo",
                    "comoros",
                    "new london",
                    "unit",
                    "petrolwar nation",
                    "itlay",
                    "cape town",
                    "nederlands",
                    "tdzimi",
                    "brunei darussalam",
                    "frome",
                    "peru\"",
                    "la chine éternelle !",
                    "saint vincent and the grenadines\"",
                    "lleida",
                    "az",
                    "u.s.a.",
                    "collin",
                    "washtenaw",
                    "deutsches reich",
                    "here and there",
                    "ee.uu",
                    "united kindgonm",
                    "nyc",
                    "san bernardino",
                    "ouranos",
                    "hornyonic",
                    "monroe",
                    "st. helena",
                    "sultanate of oman",
                    "aroostook",
                    "fredonia - land of the brave and free",
                    "osceola",
                    "pakistan.",
                    "-------",
                    "trinidad & tobago",
                    "ghana\"",
                    "turkei",
                    "heaven",
                    "hongkong",
                    "rmi",
                    "wood",
                    "worcester",
                    "gb",
                    "la suisse",
                    "ksa",
                    "bademn würtemberg",
                    "prince william",
                    "sri lanka\\\"n/a\\\"\"",
                    "valtesse",
                    "fifi",
                    "la chine éternelle!",
                    "catalunya(catalonia)",
                    "framingham",
                    "zhengjiang",
                    "somalia",
                    "milano",
                    "thailand\"",
                    "cnina",
                    "ust",
                    "ama lurra",
                    "commonwealth of northern mariana islands",
                    "marrion",
                    "hamilton",
                    "lkjlj",
                    "slo",
                    "bernalillo",
                    "morgan",
                    "saint loius",
                    "ferrara",
                    "effingham",
                    "pasco",
                    "lake",
                    "catalunya spain",
                    "?ú?{",
                    "auckland",
                    "philippine",
                    "*",
                    "windham",
                    "hampden",
                    "cn",
                    "baltimore",
                    "jackson",
                    "côte d",
                    "baxter",
                    "republic of korea",
                    "cote d`ivoire\"",
                    "evil empire",
                    "richmond country",
                    "hennipen",
                    "equatorial geuinea",
                    "nyhamnsläge",
                    "rice",
                    "good old usa !",
                    "algérie",
                    "polska",
                    "ua",
                    "n/a - on the road",
                    "missouri",
                    "goteborg",
                    "dekalb",
                    "bbbzzzzz",
                    "cass",
                    "cherokee",
                    "van wert",
                    "87510",
                    "monterrey",
                    "camden",
                    "ventura county",
                    "clinton",
                    "italien",
                    "china people`s republic",
                    "united statea",
                    "liaoning",
                    "bfe",
                    "strongbadia",
                    "chian",
                    "dfg",
                    ".",
                    "belgi",
                    "australia\"",
                    "country",
                    "bell",
                    "pa",
                    "rutherford",
                    "orense",
                    "k1c7b1",
                    "id",
                    "guatemala\"",
                    "sudan\"",
                    "berguedà",
                    "basilicata",
                    "diy",
                    "ysa",
                    "england uk",
                    "granville",
                    "rosello",
                    "the great white north",
                    "united stated of america",
                    "good old u.s.a.",
                    "faroe islands",
                    "kz",
                    "henry",
                    "adsgfdr",
                    "burkinafasu",
                    "aotearoa",
                    "in your heart",
                    "u.s.a>",
                    "perãº",
                    "the world tomorrow",
                    "rosario",
                    "thailoand",
                    "bladen",
                    "input error",
                    "lawrenceville",
                    "pinallas",
                    "the philippines",
                    "serbia & montenegro",
                    "rapides",
                    "singapore/united kingdom",
                    "english",
                    "doodedoo",
                    "sicilia",
                    "can",
                    "aaa",
                    "&#32654;&#22269;",
                    "-",
                    "sao tome and principe\"",
                    "essex",
                    "myanmar",
                    "travelling",
                    "carter",
                    "usa & canada",
                    "u.s. of a.",
                    "p.r.china",
                    "none",
                    "pr",
                    "dublin",
                    "saudia arabia",
                    "afganstand holla !!",
                    "lornsenland",
                    "nowhere",
                    "scotland\"",
                    "alachua",
                    "macedonia\"",
                    "maroc",
                    "far away...",
                    "south korea\"",
                    "isreal",
                    "5057chadwick ct.",
                    "02458",
                    "u.s.a!",
                    "u.s>",
                    "san franicsco",
                    "isle of man",
                    "greece (=hellas)",
                    "my",
                    "hillsborough",
                    "antigua & barbuda",
                    "mérida",
                    "fernando de la mora",
                    "queenspark",
                    "19104",
                    "minnehaha",
                    "de",
                    "china öð¹ú",
                    "united kingdom."
                  ],
                  "name": "",
                  "type": "choropleth",
                  "z": [
                    11.847338439909615,
                    9.983176351437496,
                    9.827631900232593,
                    9.743553514619803,
                    9.48402493478411,
                    9.374582815370232,
                    9.329633378164166,
                    8.429235912657095,
                    8.147867129923947,
                    8.109525659752872,
                    8.038512020976814,
                    8.014996894348302,
                    7.465082736399547,
                    7.423568444259167,
                    7.305860032684009,
                    7.249215057114389,
                    7.1631723908466425,
                    7.036148493750536,
                    7.02108396428914,
                    6.988413181999592,
                    6.8308742346461795,
                    6.828712071641684,
                    6.734591659972948,
                    6.709304340258298,
                    6.692083742506628,
                    6.625392368007956,
                    6.612041034833092,
                    6.19644412779452,
                    6.12029741895095,
                    6.093569770045136,
                    6.045005314036012,
                    5.983936280687191,
                    5.8805329864007,
                    5.8805329864007,
                    5.846438775057725,
                    5.802118375377063,
                    5.723585101952381,
                    5.66988092298052,
                    5.60947179518496,
                    5.5093883366279774,
                    5.438079308923196,
                    5.41610040220442,
                    5.3706380281276624,
                    5.298317366548036,
                    5.187385805840755,
                    5.187385805840755,
                    5.14166355650266,
                    5.117993812416755,
                    5.117993812416755,
                    4.962844630259907,
                    4.948759890378168,
                    4.941642422609304,
                    4.941642422609304,
                    4.941642422609304,
                    4.897839799950911,
                    4.890349128221754,
                    4.718498871295094,
                    4.653960350157523,
                    4.584967478670572,
                    4.465908118654584,
                    4.382026634673881,
                    4.189654742026425,
                    4.189654742026425,
                    4.1588830833596715,
                    4.1588830833596715,
                    4.0943445622221,
                    4.02535169073515,
                    3.970291913552122,
                    3.970291913552122,
                    3.9318256327243257,
                    3.8501476017100584,
                    3.828641396489095,
                    3.8066624897703196,
                    3.7612001156935624,
                    3.7612001156935624,
                    3.7376696182833684,
                    3.713572066704308,
                    3.713572066704308,
                    3.6888794541139363,
                    3.6375861597263857,
                    3.6375861597263857,
                    3.6375861597263857,
                    3.6375861597263857,
                    3.6109179126442243,
                    3.6109179126442243,
                    3.5553480614894135,
                    3.5553480614894135,
                    3.5263605246161616,
                    3.5263605246161616,
                    3.4965075614664802,
                    3.4657359027997265,
                    3.4657359027997265,
                    3.4657359027997265,
                    3.4657359027997265,
                    3.4657359027997265,
                    3.4339872044851463,
                    3.4339872044851463,
                    3.4339872044851463,
                    3.4011973816621555,
                    3.4011973816621555,
                    3.332204510175204,
                    3.332204510175204,
                    3.332204510175204,
                    3.332204510175204,
                    3.332204510175204,
                    3.295836866004329,
                    3.295836866004329,
                    3.295836866004329,
                    3.258096538021482,
                    3.2188758248682006,
                    3.2188758248682006,
                    3.1780538303479458,
                    3.1780538303479458,
                    3.1354942159291497,
                    3.1354942159291497,
                    3.091042453358316,
                    3.091042453358316,
                    3.044522437723423,
                    3.044522437723423,
                    3.044522437723423,
                    2.995732273553991,
                    2.995732273553991,
                    2.995732273553991,
                    2.995732273553991,
                    2.9444389791664403,
                    2.9444389791664403,
                    2.8903717578961645,
                    2.8903717578961645,
                    2.8903717578961645,
                    2.8903717578961645,
                    2.8903717578961645,
                    2.833213344056216,
                    2.833213344056216,
                    2.833213344056216,
                    2.833213344056216,
                    2.70805020110221,
                    2.70805020110221,
                    2.6390573296152584,
                    2.6390573296152584,
                    2.6390573296152584,
                    2.6390573296152584,
                    2.5649493574615367,
                    2.5649493574615367,
                    2.5649493574615367,
                    2.5649493574615367,
                    2.5649493574615367,
                    2.5649493574615367,
                    2.4849066497880004,
                    2.4849066497880004,
                    2.4849066497880004,
                    2.4849066497880004,
                    2.4849066497880004,
                    2.4849066497880004,
                    2.3978952727983707,
                    2.3978952727983707,
                    2.3978952727983707,
                    2.3978952727983707,
                    2.3978952727983707,
                    2.3978952727983707,
                    2.3978952727983707,
                    2.3978952727983707,
                    2.3978952727983707,
                    2.302585092994046,
                    2.302585092994046,
                    2.302585092994046,
                    2.302585092994046,
                    2.302585092994046,
                    2.1972245773362196,
                    2.1972245773362196,
                    2.1972245773362196,
                    2.1972245773362196,
                    2.1972245773362196,
                    2.1972245773362196,
                    2.1972245773362196,
                    2.1972245773362196,
                    2.1972245773362196,
                    2.1972245773362196,
                    2.1972245773362196,
                    2.0794415416798357,
                    2.0794415416798357,
                    2.0794415416798357,
                    2.0794415416798357,
                    2.0794415416798357,
                    2.0794415416798357,
                    2.0794415416798357,
                    2.0794415416798357,
                    2.0794415416798357,
                    2.0794415416798357,
                    1.9459101490553132,
                    1.9459101490553132,
                    1.9459101490553132,
                    1.9459101490553132,
                    1.9459101490553132,
                    1.9459101490553132,
                    1.9459101490553132,
                    1.9459101490553132,
                    1.9459101490553132,
                    1.9459101490553132,
                    1.791759469228055,
                    1.791759469228055,
                    1.791759469228055,
                    1.791759469228055,
                    1.791759469228055,
                    1.791759469228055,
                    1.791759469228055,
                    1.791759469228055,
                    1.791759469228055,
                    1.791759469228055,
                    1.791759469228055,
                    1.791759469228055,
                    1.791759469228055,
                    1.6094379124341003,
                    1.6094379124341003,
                    1.6094379124341003,
                    1.6094379124341003,
                    1.6094379124341003,
                    1.6094379124341003,
                    1.6094379124341003,
                    1.6094379124341003,
                    1.6094379124341003,
                    1.6094379124341003,
                    1.6094379124341003,
                    1.6094379124341003,
                    1.6094379124341003,
                    1.6094379124341003,
                    1.6094379124341003,
                    1.6094379124341003,
                    1.3862943611198906,
                    1.3862943611198906,
                    1.3862943611198906,
                    1.3862943611198906,
                    1.3862943611198906,
                    1.3862943611198906,
                    1.3862943611198906,
                    1.3862943611198906,
                    1.3862943611198906,
                    1.3862943611198906,
                    1.3862943611198906,
                    1.3862943611198906,
                    1.3862943611198906,
                    1.3862943611198906,
                    1.3862943611198906,
                    1.3862943611198906,
                    1.3862943611198906,
                    1.3862943611198906,
                    1.3862943611198906,
                    1.3862943611198906,
                    1.3862943611198906,
                    1.3862943611198906,
                    1.3862943611198906,
                    1.3862943611198906,
                    1.0986122886681098,
                    1.0986122886681098,
                    1.0986122886681098,
                    1.0986122886681098,
                    1.0986122886681098,
                    1.0986122886681098,
                    1.0986122886681098,
                    1.0986122886681098,
                    1.0986122886681098,
                    1.0986122886681098,
                    1.0986122886681098,
                    1.0986122886681098,
                    1.0986122886681098,
                    1.0986122886681098,
                    1.0986122886681098,
                    1.0986122886681098,
                    1.0986122886681098,
                    1.0986122886681098,
                    1.0986122886681098,
                    1.0986122886681098,
                    1.0986122886681098,
                    1.0986122886681098,
                    1.0986122886681098,
                    1.0986122886681098,
                    1.0986122886681098,
                    1.0986122886681098,
                    1.0986122886681098,
                    1.0986122886681098,
                    1.0986122886681098,
                    1.0986122886681098,
                    1.0986122886681098,
                    1.0986122886681098,
                    1.0986122886681098,
                    1.0986122886681098,
                    1.0986122886681098,
                    1.0986122886681098,
                    1.0986122886681098,
                    1.0986122886681098,
                    1.0986122886681098,
                    1.0986122886681098,
                    1.0986122886681098,
                    1.0986122886681098,
                    1.0986122886681098,
                    1.0986122886681098,
                    1.0986122886681098,
                    1.0986122886681098,
                    1.0986122886681098,
                    1.0986122886681098,
                    1.0986122886681098,
                    1.0986122886681098,
                    1.0986122886681098,
                    1.0986122886681098,
                    0.6931471805599453,
                    0.6931471805599453,
                    0.6931471805599453,
                    0.6931471805599453,
                    0.6931471805599453,
                    0.6931471805599453,
                    0.6931471805599453,
                    0.6931471805599453,
                    0.6931471805599453,
                    0.6931471805599453,
                    0.6931471805599453,
                    0.6931471805599453,
                    0.6931471805599453,
                    0.6931471805599453,
                    0.6931471805599453,
                    0.6931471805599453,
                    0.6931471805599453,
                    0.6931471805599453,
                    0.6931471805599453,
                    0.6931471805599453,
                    0.6931471805599453,
                    0.6931471805599453,
                    0.6931471805599453,
                    0.6931471805599453,
                    0.6931471805599453,
                    0.6931471805599453,
                    0.6931471805599453,
                    0.6931471805599453,
                    0.6931471805599453,
                    0.6931471805599453,
                    0.6931471805599453,
                    0.6931471805599453,
                    0.6931471805599453,
                    0.6931471805599453,
                    0.6931471805599453,
                    0.6931471805599453,
                    0.6931471805599453,
                    0.6931471805599453,
                    0.6931471805599453,
                    0.6931471805599453,
                    0.6931471805599453,
                    0.6931471805599453,
                    0.6931471805599453,
                    0.6931471805599453,
                    0.6931471805599453,
                    0.6931471805599453,
                    0.6931471805599453,
                    0.6931471805599453,
                    0.6931471805599453,
                    0.6931471805599453,
                    0.6931471805599453,
                    0.6931471805599453,
                    0.6931471805599453,
                    0.6931471805599453,
                    0.6931471805599453,
                    0.6931471805599453,
                    0.6931471805599453,
                    0.6931471805599453,
                    0.6931471805599453,
                    0.6931471805599453,
                    0.6931471805599453,
                    0.6931471805599453,
                    0.6931471805599453,
                    0.6931471805599453,
                    0.6931471805599453,
                    0.6931471805599453,
                    0.6931471805599453,
                    0.6931471805599453,
                    0.6931471805599453,
                    0.6931471805599453,
                    0.6931471805599453,
                    0.6931471805599453,
                    0.6931471805599453,
                    0.6931471805599453,
                    0.6931471805599453,
                    0.6931471805599453,
                    0.6931471805599453,
                    0.6931471805599453,
                    0.6931471805599453,
                    0.6931471805599453,
                    0.6931471805599453,
                    0.6931471805599453,
                    0.6931471805599453,
                    0.6931471805599453,
                    0.6931471805599453,
                    0.6931471805599453,
                    0.6931471805599453,
                    0.6931471805599453,
                    0.6931471805599453,
                    0.6931471805599453,
                    0.6931471805599453,
                    0.6931471805599453,
                    0.6931471805599453,
                    0.6931471805599453,
                    0.6931471805599453,
                    0.6931471805599453,
                    0.6931471805599453,
                    0.6931471805599453,
                    0.6931471805599453,
                    0.6931471805599453,
                    0.6931471805599453,
                    0.6931471805599453,
                    0.6931471805599453,
                    0.6931471805599453,
                    0.6931471805599453,
                    0.6931471805599453,
                    0.6931471805599453,
                    0.6931471805599453,
                    0.6931471805599453,
                    0.6931471805599453,
                    0.6931471805599453,
                    0.6931471805599453,
                    0.6931471805599453,
                    0.6931471805599453,
                    0.6931471805599453,
                    0.6931471805599453,
                    0.6931471805599453,
                    0.6931471805599453,
                    0.6931471805599453,
                    0.6931471805599453,
                    0.6931471805599453,
                    0.6931471805599453,
                    0.6931471805599453,
                    0.6931471805599453,
                    0.6931471805599453,
                    0.6931471805599453,
                    0.6931471805599453,
                    0.6931471805599453,
                    0.6931471805599453,
                    0.6931471805599453,
                    0.6931471805599453,
                    0.6931471805599453,
                    0.6931471805599453,
                    0.6931471805599453,
                    0.6931471805599453,
                    0.6931471805599453,
                    0.6931471805599453,
                    0.6931471805599453,
                    0.6931471805599453,
                    0.6931471805599453,
                    0.6931471805599453,
                    0.6931471805599453,
                    0.6931471805599453,
                    0.6931471805599453,
                    0.6931471805599453,
                    0.6931471805599453,
                    0.6931471805599453,
                    0.6931471805599453,
                    0.6931471805599453,
                    0.6931471805599453,
                    0.6931471805599453,
                    0.6931471805599453,
                    0.6931471805599453,
                    0.6931471805599453,
                    0.6931471805599453,
                    0.6931471805599453,
                    0.6931471805599453,
                    0.6931471805599453,
                    0.6931471805599453,
                    0.6931471805599453,
                    0.6931471805599453,
                    0.6931471805599453,
                    0.6931471805599453,
                    0.6931471805599453,
                    0.6931471805599453,
                    0.6931471805599453,
                    0.6931471805599453,
                    0.6931471805599453,
                    0.6931471805599453,
                    0.6931471805599453,
                    0.6931471805599453,
                    0.6931471805599453,
                    0.6931471805599453,
                    0.6931471805599453,
                    0.6931471805599453,
                    0.6931471805599453,
                    0.6931471805599453,
                    0.6931471805599453,
                    0.6931471805599453,
                    0.6931471805599453,
                    0.6931471805599453,
                    0.6931471805599453,
                    0.6931471805599453,
                    0.6931471805599453,
                    0.6931471805599453,
                    0.6931471805599453,
                    0.6931471805599453,
                    0.6931471805599453,
                    0.6931471805599453,
                    0.6931471805599453,
                    0.6931471805599453,
                    0.6931471805599453,
                    0.6931471805599453,
                    0.6931471805599453,
                    0.6931471805599453,
                    0.6931471805599453,
                    0.6931471805599453,
                    0.6931471805599453,
                    0.6931471805599453,
                    0.6931471805599453,
                    0.6931471805599453,
                    0.6931471805599453,
                    0.6931471805599453,
                    0.6931471805599453,
                    0.6931471805599453,
                    0.6931471805599453,
                    0.6931471805599453,
                    0.6931471805599453,
                    0.6931471805599453,
                    0.6931471805599453,
                    0.6931471805599453,
                    0.6931471805599453,
                    0.6931471805599453,
                    0.6931471805599453,
                    0.6931471805599453,
                    0.6931471805599453,
                    0.6931471805599453,
                    0.6931471805599453,
                    0.6931471805599453,
                    0.6931471805599453,
                    0.6931471805599453,
                    0.6931471805599453,
                    0.6931471805599453,
                    0.6931471805599453,
                    0.6931471805599453,
                    0.6931471805599453,
                    0.6931471805599453,
                    0.6931471805599453,
                    0.6931471805599453,
                    0.6931471805599453,
                    0.6931471805599453,
                    0.6931471805599453,
                    0.6931471805599453,
                    0.6931471805599453,
                    0.6931471805599453,
                    0.6931471805599453,
                    0.6931471805599453,
                    0.6931471805599453,
                    0.6931471805599453,
                    0.6931471805599453,
                    0.6931471805599453,
                    0.6931471805599453,
                    0.6931471805599453,
                    0.6931471805599453,
                    0.6931471805599453,
                    0.6931471805599453,
                    0.6931471805599453,
                    0.6931471805599453,
                    0.6931471805599453,
                    0.6931471805599453,
                    0.6931471805599453,
                    0.6931471805599453,
                    0.6931471805599453,
                    0.6931471805599453,
                    0.6931471805599453,
                    0.6931471805599453,
                    0.6931471805599453,
                    0.6931471805599453,
                    0.6931471805599453,
                    0.6931471805599453,
                    0.6931471805599453,
                    0.6931471805599453,
                    0.6931471805599453,
                    0.6931471805599453,
                    0.6931471805599453,
                    0.6931471805599453,
                    0.6931471805599453,
                    0.6931471805599453,
                    0.6931471805599453,
                    0.6931471805599453,
                    0.6931471805599453,
                    0.6931471805599453,
                    0.6931471805599453,
                    0.6931471805599453,
                    0.6931471805599453,
                    0.6931471805599453,
                    0.6931471805599453,
                    0.6931471805599453,
                    0.6931471805599453,
                    0.6931471805599453,
                    0.6931471805599453,
                    0.6931471805599453,
                    0.6931471805599453,
                    0.6931471805599453,
                    0.6931471805599453,
                    0.6931471805599453,
                    0.6931471805599453,
                    0.6931471805599453,
                    0.6931471805599453,
                    0.6931471805599453,
                    0.6931471805599453,
                    0.6931471805599453,
                    0.6931471805599453,
                    0.6931471805599453,
                    0.6931471805599453,
                    0.6931471805599453,
                    0.6931471805599453,
                    0.6931471805599453,
                    0.6931471805599453,
                    0.6931471805599453,
                    0.6931471805599453,
                    0.6931471805599453,
                    0.6931471805599453,
                    0.6931471805599453,
                    0.6931471805599453,
                    0.6931471805599453,
                    0.6931471805599453,
                    0.6931471805599453,
                    0.6931471805599453,
                    0.6931471805599453,
                    0.6931471805599453,
                    0.6931471805599453,
                    0.6931471805599453,
                    0.6931471805599453,
                    0.6931471805599453,
                    0.6931471805599453,
                    0.6931471805599453,
                    0.6931471805599453,
                    0.6931471805599453,
                    0.6931471805599453,
                    0.6931471805599453,
                    0.6931471805599453,
                    0.6931471805599453,
                    0.6931471805599453,
                    0.6931471805599453,
                    0.6931471805599453,
                    0.6931471805599453,
                    0.6931471805599453,
                    0.6931471805599453,
                    0.6931471805599453,
                    0.6931471805599453,
                    0.6931471805599453,
                    0.6931471805599453,
                    0.6931471805599453,
                    0.6931471805599453,
                    0.6931471805599453,
                    0.6931471805599453,
                    0.6931471805599453,
                    0.6931471805599453,
                    0.6931471805599453,
                    0.6931471805599453,
                    0.6931471805599453,
                    0.6931471805599453,
                    0.6931471805599453,
                    0.6931471805599453,
                    0.6931471805599453,
                    0.6931471805599453,
                    0.6931471805599453,
                    0.6931471805599453,
                    0.6931471805599453,
                    0.6931471805599453,
                    0.6931471805599453,
                    0.6931471805599453,
                    0.6931471805599453,
                    0.6931471805599453,
                    0.6931471805599453,
                    0.6931471805599453,
                    0.6931471805599453,
                    0.6931471805599453,
                    0.6931471805599453,
                    0.6931471805599453,
                    0.6931471805599453,
                    0.6931471805599453,
                    0.6931471805599453,
                    0.6931471805599453,
                    0.6931471805599453,
                    0.6931471805599453,
                    0.6931471805599453,
                    0.6931471805599453,
                    0.6931471805599453,
                    0.6931471805599453,
                    0.6931471805599453,
                    0.6931471805599453,
                    0.6931471805599453,
                    0.6931471805599453,
                    0.6931471805599453,
                    0.6931471805599453,
                    0.6931471805599453,
                    0.6931471805599453,
                    0.6931471805599453,
                    0.6931471805599453,
                    0.6931471805599453,
                    0.6931471805599453,
                    0.6931471805599453,
                    0.6931471805599453,
                    0.6931471805599453,
                    0.6931471805599453,
                    0.6931471805599453,
                    0.6931471805599453,
                    0.6931471805599453,
                    0.6931471805599453,
                    0.6931471805599453,
                    0.6931471805599453,
                    0.6931471805599453,
                    0.6931471805599453,
                    0.6931471805599453,
                    0.6931471805599453,
                    0.6931471805599453,
                    0.6931471805599453,
                    0.6931471805599453,
                    0.6931471805599453,
                    0.6931471805599453,
                    0.6931471805599453,
                    0.6931471805599453,
                    0.6931471805599453,
                    0.6931471805599453
                  ]
                }
              ],
              "layout": {
                "coloraxis": {
                  "cmax": 11.847338439909615,
                  "cmin": 0.6931471805599453,
                  "colorbar": {
                    "title": {
                      "text": "color"
                    }
                  },
                  "colorscale": [
                    [
                      0,
                      "#440154"
                    ],
                    [
                      0.1111111111111111,
                      "#482878"
                    ],
                    [
                      0.2222222222222222,
                      "#3e4989"
                    ],
                    [
                      0.3333333333333333,
                      "#31688e"
                    ],
                    [
                      0.4444444444444444,
                      "#26828e"
                    ],
                    [
                      0.5555555555555556,
                      "#1f9e89"
                    ],
                    [
                      0.6666666666666666,
                      "#35b779"
                    ],
                    [
                      0.7777777777777778,
                      "#6ece58"
                    ],
                    [
                      0.8888888888888888,
                      "#b5de2b"
                    ],
                    [
                      1,
                      "#fde725"
                    ]
                  ]
                },
                "font": {
                  "family": "Franklin Gothic",
                  "size": 17
                },
                "geo": {
                  "center": {},
                  "domain": {
                    "x": [
                      0,
                      1
                    ],
                    "y": [
                      0,
                      1
                    ]
                  },
                  "projection": {
                    "type": "equirectangular"
                  },
                  "showcoastlines": true,
                  "showframe": false
                },
                "legend": {
                  "tracegroupgap": 0
                },
                "template": {
                  "data": {
                    "bar": [
                      {
                        "error_x": {
                          "color": "#2a3f5f"
                        },
                        "error_y": {
                          "color": "#2a3f5f"
                        },
                        "marker": {
                          "line": {
                            "color": "white",
                            "width": 0.5
                          },
                          "pattern": {
                            "fillmode": "overlay",
                            "size": 10,
                            "solidity": 0.2
                          }
                        },
                        "type": "bar"
                      }
                    ],
                    "barpolar": [
                      {
                        "marker": {
                          "line": {
                            "color": "white",
                            "width": 0.5
                          },
                          "pattern": {
                            "fillmode": "overlay",
                            "size": 10,
                            "solidity": 0.2
                          }
                        },
                        "type": "barpolar"
                      }
                    ],
                    "carpet": [
                      {
                        "aaxis": {
                          "endlinecolor": "#2a3f5f",
                          "gridcolor": "#C8D4E3",
                          "linecolor": "#C8D4E3",
                          "minorgridcolor": "#C8D4E3",
                          "startlinecolor": "#2a3f5f"
                        },
                        "baxis": {
                          "endlinecolor": "#2a3f5f",
                          "gridcolor": "#C8D4E3",
                          "linecolor": "#C8D4E3",
                          "minorgridcolor": "#C8D4E3",
                          "startlinecolor": "#2a3f5f"
                        },
                        "type": "carpet"
                      }
                    ],
                    "choropleth": [
                      {
                        "colorbar": {
                          "outlinewidth": 0,
                          "ticks": ""
                        },
                        "type": "choropleth"
                      }
                    ],
                    "contour": [
                      {
                        "colorbar": {
                          "outlinewidth": 0,
                          "ticks": ""
                        },
                        "colorscale": [
                          [
                            0,
                            "#0d0887"
                          ],
                          [
                            0.1111111111111111,
                            "#46039f"
                          ],
                          [
                            0.2222222222222222,
                            "#7201a8"
                          ],
                          [
                            0.3333333333333333,
                            "#9c179e"
                          ],
                          [
                            0.4444444444444444,
                            "#bd3786"
                          ],
                          [
                            0.5555555555555556,
                            "#d8576b"
                          ],
                          [
                            0.6666666666666666,
                            "#ed7953"
                          ],
                          [
                            0.7777777777777778,
                            "#fb9f3a"
                          ],
                          [
                            0.8888888888888888,
                            "#fdca26"
                          ],
                          [
                            1,
                            "#f0f921"
                          ]
                        ],
                        "type": "contour"
                      }
                    ],
                    "contourcarpet": [
                      {
                        "colorbar": {
                          "outlinewidth": 0,
                          "ticks": ""
                        },
                        "type": "contourcarpet"
                      }
                    ],
                    "heatmap": [
                      {
                        "colorbar": {
                          "outlinewidth": 0,
                          "ticks": ""
                        },
                        "colorscale": [
                          [
                            0,
                            "#0d0887"
                          ],
                          [
                            0.1111111111111111,
                            "#46039f"
                          ],
                          [
                            0.2222222222222222,
                            "#7201a8"
                          ],
                          [
                            0.3333333333333333,
                            "#9c179e"
                          ],
                          [
                            0.4444444444444444,
                            "#bd3786"
                          ],
                          [
                            0.5555555555555556,
                            "#d8576b"
                          ],
                          [
                            0.6666666666666666,
                            "#ed7953"
                          ],
                          [
                            0.7777777777777778,
                            "#fb9f3a"
                          ],
                          [
                            0.8888888888888888,
                            "#fdca26"
                          ],
                          [
                            1,
                            "#f0f921"
                          ]
                        ],
                        "type": "heatmap"
                      }
                    ],
                    "heatmapgl": [
                      {
                        "colorbar": {
                          "outlinewidth": 0,
                          "ticks": ""
                        },
                        "colorscale": [
                          [
                            0,
                            "#0d0887"
                          ],
                          [
                            0.1111111111111111,
                            "#46039f"
                          ],
                          [
                            0.2222222222222222,
                            "#7201a8"
                          ],
                          [
                            0.3333333333333333,
                            "#9c179e"
                          ],
                          [
                            0.4444444444444444,
                            "#bd3786"
                          ],
                          [
                            0.5555555555555556,
                            "#d8576b"
                          ],
                          [
                            0.6666666666666666,
                            "#ed7953"
                          ],
                          [
                            0.7777777777777778,
                            "#fb9f3a"
                          ],
                          [
                            0.8888888888888888,
                            "#fdca26"
                          ],
                          [
                            1,
                            "#f0f921"
                          ]
                        ],
                        "type": "heatmapgl"
                      }
                    ],
                    "histogram": [
                      {
                        "marker": {
                          "pattern": {
                            "fillmode": "overlay",
                            "size": 10,
                            "solidity": 0.2
                          }
                        },
                        "type": "histogram"
                      }
                    ],
                    "histogram2d": [
                      {
                        "colorbar": {
                          "outlinewidth": 0,
                          "ticks": ""
                        },
                        "colorscale": [
                          [
                            0,
                            "#0d0887"
                          ],
                          [
                            0.1111111111111111,
                            "#46039f"
                          ],
                          [
                            0.2222222222222222,
                            "#7201a8"
                          ],
                          [
                            0.3333333333333333,
                            "#9c179e"
                          ],
                          [
                            0.4444444444444444,
                            "#bd3786"
                          ],
                          [
                            0.5555555555555556,
                            "#d8576b"
                          ],
                          [
                            0.6666666666666666,
                            "#ed7953"
                          ],
                          [
                            0.7777777777777778,
                            "#fb9f3a"
                          ],
                          [
                            0.8888888888888888,
                            "#fdca26"
                          ],
                          [
                            1,
                            "#f0f921"
                          ]
                        ],
                        "type": "histogram2d"
                      }
                    ],
                    "histogram2dcontour": [
                      {
                        "colorbar": {
                          "outlinewidth": 0,
                          "ticks": ""
                        },
                        "colorscale": [
                          [
                            0,
                            "#0d0887"
                          ],
                          [
                            0.1111111111111111,
                            "#46039f"
                          ],
                          [
                            0.2222222222222222,
                            "#7201a8"
                          ],
                          [
                            0.3333333333333333,
                            "#9c179e"
                          ],
                          [
                            0.4444444444444444,
                            "#bd3786"
                          ],
                          [
                            0.5555555555555556,
                            "#d8576b"
                          ],
                          [
                            0.6666666666666666,
                            "#ed7953"
                          ],
                          [
                            0.7777777777777778,
                            "#fb9f3a"
                          ],
                          [
                            0.8888888888888888,
                            "#fdca26"
                          ],
                          [
                            1,
                            "#f0f921"
                          ]
                        ],
                        "type": "histogram2dcontour"
                      }
                    ],
                    "mesh3d": [
                      {
                        "colorbar": {
                          "outlinewidth": 0,
                          "ticks": ""
                        },
                        "type": "mesh3d"
                      }
                    ],
                    "parcoords": [
                      {
                        "line": {
                          "colorbar": {
                            "outlinewidth": 0,
                            "ticks": ""
                          }
                        },
                        "type": "parcoords"
                      }
                    ],
                    "pie": [
                      {
                        "automargin": true,
                        "type": "pie"
                      }
                    ],
                    "scatter": [
                      {
                        "fillpattern": {
                          "fillmode": "overlay",
                          "size": 10,
                          "solidity": 0.2
                        },
                        "type": "scatter"
                      }
                    ],
                    "scatter3d": [
                      {
                        "line": {
                          "colorbar": {
                            "outlinewidth": 0,
                            "ticks": ""
                          }
                        },
                        "marker": {
                          "colorbar": {
                            "outlinewidth": 0,
                            "ticks": ""
                          }
                        },
                        "type": "scatter3d"
                      }
                    ],
                    "scattercarpet": [
                      {
                        "marker": {
                          "colorbar": {
                            "outlinewidth": 0,
                            "ticks": ""
                          }
                        },
                        "type": "scattercarpet"
                      }
                    ],
                    "scattergeo": [
                      {
                        "marker": {
                          "colorbar": {
                            "outlinewidth": 0,
                            "ticks": ""
                          }
                        },
                        "type": "scattergeo"
                      }
                    ],
                    "scattergl": [
                      {
                        "marker": {
                          "colorbar": {
                            "outlinewidth": 0,
                            "ticks": ""
                          }
                        },
                        "type": "scattergl"
                      }
                    ],
                    "scattermapbox": [
                      {
                        "marker": {
                          "colorbar": {
                            "outlinewidth": 0,
                            "ticks": ""
                          }
                        },
                        "type": "scattermapbox"
                      }
                    ],
                    "scatterpolar": [
                      {
                        "marker": {
                          "colorbar": {
                            "outlinewidth": 0,
                            "ticks": ""
                          }
                        },
                        "type": "scatterpolar"
                      }
                    ],
                    "scatterpolargl": [
                      {
                        "marker": {
                          "colorbar": {
                            "outlinewidth": 0,
                            "ticks": ""
                          }
                        },
                        "type": "scatterpolargl"
                      }
                    ],
                    "scatterternary": [
                      {
                        "marker": {
                          "colorbar": {
                            "outlinewidth": 0,
                            "ticks": ""
                          }
                        },
                        "type": "scatterternary"
                      }
                    ],
                    "surface": [
                      {
                        "colorbar": {
                          "outlinewidth": 0,
                          "ticks": ""
                        },
                        "colorscale": [
                          [
                            0,
                            "#0d0887"
                          ],
                          [
                            0.1111111111111111,
                            "#46039f"
                          ],
                          [
                            0.2222222222222222,
                            "#7201a8"
                          ],
                          [
                            0.3333333333333333,
                            "#9c179e"
                          ],
                          [
                            0.4444444444444444,
                            "#bd3786"
                          ],
                          [
                            0.5555555555555556,
                            "#d8576b"
                          ],
                          [
                            0.6666666666666666,
                            "#ed7953"
                          ],
                          [
                            0.7777777777777778,
                            "#fb9f3a"
                          ],
                          [
                            0.8888888888888888,
                            "#fdca26"
                          ],
                          [
                            1,
                            "#f0f921"
                          ]
                        ],
                        "type": "surface"
                      }
                    ],
                    "table": [
                      {
                        "cells": {
                          "fill": {
                            "color": "#EBF0F8"
                          },
                          "line": {
                            "color": "white"
                          }
                        },
                        "header": {
                          "fill": {
                            "color": "#C8D4E3"
                          },
                          "line": {
                            "color": "white"
                          }
                        },
                        "type": "table"
                      }
                    ]
                  },
                  "layout": {
                    "annotationdefaults": {
                      "arrowcolor": "#2a3f5f",
                      "arrowhead": 0,
                      "arrowwidth": 1
                    },
                    "autotypenumbers": "strict",
                    "coloraxis": {
                      "colorbar": {
                        "outlinewidth": 0,
                        "ticks": ""
                      }
                    },
                    "colorscale": {
                      "diverging": [
                        [
                          0,
                          "#8e0152"
                        ],
                        [
                          0.1,
                          "#c51b7d"
                        ],
                        [
                          0.2,
                          "#de77ae"
                        ],
                        [
                          0.3,
                          "#f1b6da"
                        ],
                        [
                          0.4,
                          "#fde0ef"
                        ],
                        [
                          0.5,
                          "#f7f7f7"
                        ],
                        [
                          0.6,
                          "#e6f5d0"
                        ],
                        [
                          0.7,
                          "#b8e186"
                        ],
                        [
                          0.8,
                          "#7fbc41"
                        ],
                        [
                          0.9,
                          "#4d9221"
                        ],
                        [
                          1,
                          "#276419"
                        ]
                      ],
                      "sequential": [
                        [
                          0,
                          "#0d0887"
                        ],
                        [
                          0.1111111111111111,
                          "#46039f"
                        ],
                        [
                          0.2222222222222222,
                          "#7201a8"
                        ],
                        [
                          0.3333333333333333,
                          "#9c179e"
                        ],
                        [
                          0.4444444444444444,
                          "#bd3786"
                        ],
                        [
                          0.5555555555555556,
                          "#d8576b"
                        ],
                        [
                          0.6666666666666666,
                          "#ed7953"
                        ],
                        [
                          0.7777777777777778,
                          "#fb9f3a"
                        ],
                        [
                          0.8888888888888888,
                          "#fdca26"
                        ],
                        [
                          1,
                          "#f0f921"
                        ]
                      ],
                      "sequentialminus": [
                        [
                          0,
                          "#0d0887"
                        ],
                        [
                          0.1111111111111111,
                          "#46039f"
                        ],
                        [
                          0.2222222222222222,
                          "#7201a8"
                        ],
                        [
                          0.3333333333333333,
                          "#9c179e"
                        ],
                        [
                          0.4444444444444444,
                          "#bd3786"
                        ],
                        [
                          0.5555555555555556,
                          "#d8576b"
                        ],
                        [
                          0.6666666666666666,
                          "#ed7953"
                        ],
                        [
                          0.7777777777777778,
                          "#fb9f3a"
                        ],
                        [
                          0.8888888888888888,
                          "#fdca26"
                        ],
                        [
                          1,
                          "#f0f921"
                        ]
                      ]
                    },
                    "colorway": [
                      "#636efa",
                      "#EF553B",
                      "#00cc96",
                      "#ab63fa",
                      "#FFA15A",
                      "#19d3f3",
                      "#FF6692",
                      "#B6E880",
                      "#FF97FF",
                      "#FECB52"
                    ],
                    "font": {
                      "color": "#2a3f5f"
                    },
                    "geo": {
                      "bgcolor": "white",
                      "lakecolor": "white",
                      "landcolor": "white",
                      "showlakes": true,
                      "showland": true,
                      "subunitcolor": "#C8D4E3"
                    },
                    "hoverlabel": {
                      "align": "left"
                    },
                    "hovermode": "closest",
                    "mapbox": {
                      "style": "light"
                    },
                    "paper_bgcolor": "white",
                    "plot_bgcolor": "white",
                    "polar": {
                      "angularaxis": {
                        "gridcolor": "#EBF0F8",
                        "linecolor": "#EBF0F8",
                        "ticks": ""
                      },
                      "bgcolor": "white",
                      "radialaxis": {
                        "gridcolor": "#EBF0F8",
                        "linecolor": "#EBF0F8",
                        "ticks": ""
                      }
                    },
                    "scene": {
                      "xaxis": {
                        "backgroundcolor": "white",
                        "gridcolor": "#DFE8F3",
                        "gridwidth": 2,
                        "linecolor": "#EBF0F8",
                        "showbackground": true,
                        "ticks": "",
                        "zerolinecolor": "#EBF0F8"
                      },
                      "yaxis": {
                        "backgroundcolor": "white",
                        "gridcolor": "#DFE8F3",
                        "gridwidth": 2,
                        "linecolor": "#EBF0F8",
                        "showbackground": true,
                        "ticks": "",
                        "zerolinecolor": "#EBF0F8"
                      },
                      "zaxis": {
                        "backgroundcolor": "white",
                        "gridcolor": "#DFE8F3",
                        "gridwidth": 2,
                        "linecolor": "#EBF0F8",
                        "showbackground": true,
                        "ticks": "",
                        "zerolinecolor": "#EBF0F8"
                      }
                    },
                    "shapedefaults": {
                      "line": {
                        "color": "#2a3f5f"
                      }
                    },
                    "ternary": {
                      "aaxis": {
                        "gridcolor": "#DFE8F3",
                        "linecolor": "#A2B1C6",
                        "ticks": ""
                      },
                      "baxis": {
                        "gridcolor": "#DFE8F3",
                        "linecolor": "#A2B1C6",
                        "ticks": ""
                      },
                      "bgcolor": "white",
                      "caxis": {
                        "gridcolor": "#DFE8F3",
                        "linecolor": "#A2B1C6",
                        "ticks": ""
                      }
                    },
                    "title": {
                      "x": 0.05
                    },
                    "xaxis": {
                      "automargin": true,
                      "gridcolor": "#EBF0F8",
                      "linecolor": "#EBF0F8",
                      "ticks": "",
                      "title": {
                        "standoff": 15
                      },
                      "zerolinecolor": "#EBF0F8",
                      "zerolinewidth": 2
                    },
                    "yaxis": {
                      "automargin": true,
                      "gridcolor": "#EBF0F8",
                      "linecolor": "#EBF0F8",
                      "ticks": "",
                      "title": {
                        "standoff": 15
                      },
                      "zerolinecolor": "#EBF0F8",
                      "zerolinewidth": 2
                    }
                  }
                },
                "title": {
                  "text": "Distribution of users by countries (Logarithmic Scale)"
                }
              }
            }
          },
          "metadata": {},
          "output_type": "display_data"
        }
      ],
      "source": [
        "# Logarithmic scale transformation for better visualization\n",
        "country_counts_log = np.log1p(country_counts)  # log(1 + x) to handle zeros\n",
        "\n",
        "# Create the choropleth map\n",
        "fig = px.choropleth(\n",
        "    locations=country_counts.index,\n",
        "    locationmode='country names',  # Match the country names in your data\n",
        "    color=country_counts_log,  # Use the logarithmic scale\n",
        "    color_continuous_scale='Viridis',\n",
        "    range_color=(country_counts_log.min(), country_counts_log.max()),  # Adjust range for log scale\n",
        "    template='plotly_white',\n",
        "    title='Distribution of users by countries (Logarithmic Scale)'\n",
        ")\n",
        "\n",
        "# Customize the layout\n",
        "fig.update_layout(\n",
        "    font=dict(size=17, family=\"Franklin Gothic\"),\n",
        "    geo=dict(\n",
        "        showframe=False,\n",
        "        showcoastlines=True,\n",
        "        projection_type='equirectangular'\n",
        "    )\n",
        ")\n",
        "\n",
        "# Show the plot\n",
        "fig.show()\n"
      ]
    },
    {
      "cell_type": "markdown",
      "metadata": {
        "id": "zloUY2mQM507"
      },
      "source": [
        "#### Insights :\n",
        "The choropleth map shows a global distribution of users, with higher concentrations of users in North America, Europe, and parts of Asia, as indicated by the logarithmic color scale. This suggests that the user base is predominantly located in these regions."
      ]
    },
    {
      "cell_type": "code",
      "execution_count": 41,
      "metadata": {
        "colab": {
          "base_uri": "https://localhost:8080/",
          "height": 726
        },
        "id": "2_rkXwxEkOqH",
        "outputId": "b3b6750b-1439-40dc-93b9-751cac31a0d9"
      },
      "outputs": [
        {
          "data": {
            "image/png": "[encoded data removed]",
            "text/plain": [
              "<Figure size 1200x600 with 1 Axes>"
            ]
          },
          "metadata": {},
          "output_type": "display_data"
        }
      ],
      "source": [
        "\n",
        "\n",
        "top_10_books = df_book_rating.groupby('Book_Title').size().sort_values(ascending=False).head(10)\n",
        "\n",
        "# Step 2: Filter the dataframe to include only the top 10 books\n",
        "top_10_books_data = df_book_rating[df_book_rating['Book_Title'].isin(top_10_books.index)]\n",
        "\n",
        "# Step 3: Calculate the average rating for these top 10 books\n",
        "average_ratings_top_10 = top_10_books_data.groupby('Book_Title')['Book_Rating'].mean()\n",
        "\n",
        "\n",
        "# Step 4: Create a box plot to visualize the distribution of ratings for the top 10 books\n",
        "plt.figure(figsize=(12, 6))\n",
        "sns.boxplot(x='Book_Title', y='Book_Rating', data=top_10_books_data, palette='Set3')\n",
        "plt.title('Distribution of Ratings for Top 10 Most Rated Books')\n",
        "plt.xlabel('Book Title')\n",
        "plt.ylabel('Book Rating')\n",
        "plt.xticks(rotation=45, ha='right')\n",
        "plt.tight_layout()\n",
        "plt.show()"
      ]
    },
    {
      "cell_type": "markdown",
      "metadata": {
        "id": "2Apa6gYsNHcp"
      },
      "source": [
        "#### Insights :\n",
        "The box plot shows that the ratings for the top 10 most rated books vary widely, with most books having a median rating around 7 to 8. \"Wild Animus\" has a wider distribution of ratings, including many low ratings, while other books like \"Angels & Demons\" and \"The Da Vinci Code\" have more concentrated and higher ratings. This suggests that while these popular books generally receive good ratings, some, like \"Wild Animus,\" are more polarizing among readers."
      ]
    },
    {
      "cell_type": "code",
      "execution_count": 42,
      "metadata": {
        "colab": {
          "base_uri": "https://localhost:8080/",
          "height": 450
        },
        "id": "nRaNg8ARwldW",
        "outputId": "6947e7ac-73f2-4097-c1b9-6ef60cf6f974"
      },
      "outputs": [
        {
          "data": {
            "text/html": [
              "<div>\n",
              "<style scoped>\n",
              "    .dataframe tbody tr th:only-of-type {\n",
              "        vertical-align: middle;\n",
              "    }\n",
              "\n",
              "    .dataframe tbody tr th {\n",
              "        vertical-align: top;\n",
              "    }\n",
              "\n",
              "    .dataframe thead th {\n",
              "        text-align: right;\n",
              "    }\n",
              "</style>\n",
              "<table border=\"1\" class=\"dataframe\">\n",
              "  <thead>\n",
              "    <tr style=\"text-align: right;\">\n",
              "      <th>User_ID</th>\n",
              "      <th>254</th>\n",
              "      <th>2276</th>\n",
              "      <th>2766</th>\n",
              "      <th>2977</th>\n",
              "      <th>3363</th>\n",
              "      <th>4017</th>\n",
              "      <th>4385</th>\n",
              "      <th>6251</th>\n",
              "      <th>6323</th>\n",
              "      <th>6543</th>\n",
              "      <th>...</th>\n",
              "      <th>271705</th>\n",
              "      <th>273979</th>\n",
              "      <th>274004</th>\n",
              "      <th>274061</th>\n",
              "      <th>274301</th>\n",
              "      <th>274308</th>\n",
              "      <th>275970</th>\n",
              "      <th>277427</th>\n",
              "      <th>277639</th>\n",
              "      <th>278418</th>\n",
              "    </tr>\n",
              "    <tr>\n",
              "      <th>Book_Title</th>\n",
              "      <th></th>\n",
              "      <th></th>\n",
              "      <th></th>\n",
              "      <th></th>\n",
              "      <th></th>\n",
              "      <th></th>\n",
              "      <th></th>\n",
              "      <th></th>\n",
              "      <th></th>\n",
              "      <th></th>\n",
              "      <th></th>\n",
              "      <th></th>\n",
              "      <th></th>\n",
              "      <th></th>\n",
              "      <th></th>\n",
              "      <th></th>\n",
              "      <th></th>\n",
              "      <th></th>\n",
              "      <th></th>\n",
              "      <th></th>\n",
              "      <th></th>\n",
              "    </tr>\n",
              "  </thead>\n",
              "  <tbody>\n",
              "    <tr>\n",
              "      <th>1984</th>\n",
              "      <td>9.0</td>\n",
              "      <td>NaN</td>\n",
              "      <td>NaN</td>\n",
              "      <td>NaN</td>\n",
              "      <td>NaN</td>\n",
              "      <td>NaN</td>\n",
              "      <td>NaN</td>\n",
              "      <td>NaN</td>\n",
              "      <td>NaN</td>\n",
              "      <td>NaN</td>\n",
              "      <td>...</td>\n",
              "      <td>10.0</td>\n",
              "      <td>NaN</td>\n",
              "      <td>NaN</td>\n",
              "      <td>NaN</td>\n",
              "      <td>NaN</td>\n",
              "      <td>NaN</td>\n",
              "      <td>0.0</td>\n",
              "      <td>NaN</td>\n",
              "      <td>NaN</td>\n",
              "      <td>NaN</td>\n",
              "    </tr>\n",
              "    <tr>\n",
              "      <th>1st to Die: A Novel</th>\n",
              "      <td>NaN</td>\n",
              "      <td>NaN</td>\n",
              "      <td>NaN</td>\n",
              "      <td>NaN</td>\n",
              "      <td>NaN</td>\n",
              "      <td>NaN</td>\n",
              "      <td>NaN</td>\n",
              "      <td>NaN</td>\n",
              "      <td>NaN</td>\n",
              "      <td>9.0</td>\n",
              "      <td>...</td>\n",
              "      <td>NaN</td>\n",
              "      <td>NaN</td>\n",
              "      <td>NaN</td>\n",
              "      <td>NaN</td>\n",
              "      <td>NaN</td>\n",
              "      <td>NaN</td>\n",
              "      <td>NaN</td>\n",
              "      <td>NaN</td>\n",
              "      <td>NaN</td>\n",
              "      <td>NaN</td>\n",
              "    </tr>\n",
              "    <tr>\n",
              "      <th>2nd Chance</th>\n",
              "      <td>NaN</td>\n",
              "      <td>10.0</td>\n",
              "      <td>NaN</td>\n",
              "      <td>NaN</td>\n",
              "      <td>NaN</td>\n",
              "      <td>NaN</td>\n",
              "      <td>NaN</td>\n",
              "      <td>NaN</td>\n",
              "      <td>NaN</td>\n",
              "      <td>0.0</td>\n",
              "      <td>...</td>\n",
              "      <td>NaN</td>\n",
              "      <td>NaN</td>\n",
              "      <td>NaN</td>\n",
              "      <td>NaN</td>\n",
              "      <td>NaN</td>\n",
              "      <td>0.0</td>\n",
              "      <td>NaN</td>\n",
              "      <td>NaN</td>\n",
              "      <td>0.0</td>\n",
              "      <td>NaN</td>\n",
              "    </tr>\n",
              "    <tr>\n",
              "      <th>4 Blondes</th>\n",
              "      <td>NaN</td>\n",
              "      <td>NaN</td>\n",
              "      <td>NaN</td>\n",
              "      <td>NaN</td>\n",
              "      <td>NaN</td>\n",
              "      <td>NaN</td>\n",
              "      <td>NaN</td>\n",
              "      <td>0.0</td>\n",
              "      <td>NaN</td>\n",
              "      <td>NaN</td>\n",
              "      <td>...</td>\n",
              "      <td>NaN</td>\n",
              "      <td>NaN</td>\n",
              "      <td>NaN</td>\n",
              "      <td>NaN</td>\n",
              "      <td>NaN</td>\n",
              "      <td>NaN</td>\n",
              "      <td>NaN</td>\n",
              "      <td>NaN</td>\n",
              "      <td>NaN</td>\n",
              "      <td>NaN</td>\n",
              "    </tr>\n",
              "    <tr>\n",
              "      <th>A Bend in the Road</th>\n",
              "      <td>0.0</td>\n",
              "      <td>NaN</td>\n",
              "      <td>7.0</td>\n",
              "      <td>NaN</td>\n",
              "      <td>NaN</td>\n",
              "      <td>NaN</td>\n",
              "      <td>NaN</td>\n",
              "      <td>NaN</td>\n",
              "      <td>NaN</td>\n",
              "      <td>NaN</td>\n",
              "      <td>...</td>\n",
              "      <td>NaN</td>\n",
              "      <td>0.0</td>\n",
              "      <td>NaN</td>\n",
              "      <td>NaN</td>\n",
              "      <td>NaN</td>\n",
              "      <td>NaN</td>\n",
              "      <td>NaN</td>\n",
              "      <td>NaN</td>\n",
              "      <td>NaN</td>\n",
              "      <td>NaN</td>\n",
              "    </tr>\n",
              "    <tr>\n",
              "      <th>...</th>\n",
              "      <td>...</td>\n",
              "      <td>...</td>\n",
              "      <td>...</td>\n",
              "      <td>...</td>\n",
              "      <td>...</td>\n",
              "      <td>...</td>\n",
              "      <td>...</td>\n",
              "      <td>...</td>\n",
              "      <td>...</td>\n",
              "      <td>...</td>\n",
              "      <td>...</td>\n",
              "      <td>...</td>\n",
              "      <td>...</td>\n",
              "      <td>...</td>\n",
              "      <td>...</td>\n",
              "      <td>...</td>\n",
              "      <td>...</td>\n",
              "      <td>...</td>\n",
              "      <td>...</td>\n",
              "      <td>...</td>\n",
              "      <td>...</td>\n",
              "    </tr>\n",
              "    <tr>\n",
              "      <th>Year of Wonders</th>\n",
              "      <td>NaN</td>\n",
              "      <td>NaN</td>\n",
              "      <td>NaN</td>\n",
              "      <td>7.0</td>\n",
              "      <td>NaN</td>\n",
              "      <td>NaN</td>\n",
              "      <td>NaN</td>\n",
              "      <td>NaN</td>\n",
              "      <td>NaN</td>\n",
              "      <td>0.0</td>\n",
              "      <td>...</td>\n",
              "      <td>NaN</td>\n",
              "      <td>9.0</td>\n",
              "      <td>NaN</td>\n",
              "      <td>NaN</td>\n",
              "      <td>NaN</td>\n",
              "      <td>NaN</td>\n",
              "      <td>0.0</td>\n",
              "      <td>NaN</td>\n",
              "      <td>NaN</td>\n",
              "      <td>NaN</td>\n",
              "    </tr>\n",
              "    <tr>\n",
              "      <th>You Belong To Me</th>\n",
              "      <td>NaN</td>\n",
              "      <td>NaN</td>\n",
              "      <td>NaN</td>\n",
              "      <td>NaN</td>\n",
              "      <td>NaN</td>\n",
              "      <td>NaN</td>\n",
              "      <td>NaN</td>\n",
              "      <td>NaN</td>\n",
              "      <td>0.0</td>\n",
              "      <td>NaN</td>\n",
              "      <td>...</td>\n",
              "      <td>NaN</td>\n",
              "      <td>NaN</td>\n",
              "      <td>NaN</td>\n",
              "      <td>NaN</td>\n",
              "      <td>NaN</td>\n",
              "      <td>NaN</td>\n",
              "      <td>NaN</td>\n",
              "      <td>NaN</td>\n",
              "      <td>NaN</td>\n",
              "      <td>NaN</td>\n",
              "    </tr>\n",
              "    <tr>\n",
              "      <th>Zen and the Art of Motorcycle Maintenance: An Inquiry into Values</th>\n",
              "      <td>NaN</td>\n",
              "      <td>NaN</td>\n",
              "      <td>NaN</td>\n",
              "      <td>NaN</td>\n",
              "      <td>0.0</td>\n",
              "      <td>NaN</td>\n",
              "      <td>NaN</td>\n",
              "      <td>0.0</td>\n",
              "      <td>NaN</td>\n",
              "      <td>NaN</td>\n",
              "      <td>...</td>\n",
              "      <td>NaN</td>\n",
              "      <td>NaN</td>\n",
              "      <td>NaN</td>\n",
              "      <td>NaN</td>\n",
              "      <td>NaN</td>\n",
              "      <td>NaN</td>\n",
              "      <td>0.0</td>\n",
              "      <td>NaN</td>\n",
              "      <td>NaN</td>\n",
              "      <td>NaN</td>\n",
              "    </tr>\n",
              "    <tr>\n",
              "      <th>Zoya</th>\n",
              "      <td>NaN</td>\n",
              "      <td>NaN</td>\n",
              "      <td>NaN</td>\n",
              "      <td>NaN</td>\n",
              "      <td>NaN</td>\n",
              "      <td>NaN</td>\n",
              "      <td>NaN</td>\n",
              "      <td>NaN</td>\n",
              "      <td>NaN</td>\n",
              "      <td>NaN</td>\n",
              "      <td>...</td>\n",
              "      <td>NaN</td>\n",
              "      <td>0.0</td>\n",
              "      <td>NaN</td>\n",
              "      <td>NaN</td>\n",
              "      <td>NaN</td>\n",
              "      <td>NaN</td>\n",
              "      <td>NaN</td>\n",
              "      <td>NaN</td>\n",
              "      <td>NaN</td>\n",
              "      <td>NaN</td>\n",
              "    </tr>\n",
              "    <tr>\n",
              "      <th>\\O\\\" Is for Outlaw\"</th>\n",
              "      <td>NaN</td>\n",
              "      <td>NaN</td>\n",
              "      <td>NaN</td>\n",
              "      <td>NaN</td>\n",
              "      <td>NaN</td>\n",
              "      <td>NaN</td>\n",
              "      <td>NaN</td>\n",
              "      <td>NaN</td>\n",
              "      <td>NaN</td>\n",
              "      <td>NaN</td>\n",
              "      <td>...</td>\n",
              "      <td>NaN</td>\n",
              "      <td>NaN</td>\n",
              "      <td>NaN</td>\n",
              "      <td>NaN</td>\n",
              "      <td>8.0</td>\n",
              "      <td>NaN</td>\n",
              "      <td>NaN</td>\n",
              "      <td>NaN</td>\n",
              "      <td>NaN</td>\n",
              "      <td>NaN</td>\n",
              "    </tr>\n",
              "  </tbody>\n",
              "</table>\n",
              "<p>706 rows × 810 columns</p>\n",
              "</div>"
            ],
            "text/plain": [
              "User_ID                                             254     2276    2766    \\\n",
              "Book_Title                                                                   \n",
              "1984                                                   9.0     NaN     NaN   \n",
              "1st to Die: A Novel                                    NaN     NaN     NaN   \n",
              "2nd Chance                                             NaN    10.0     NaN   \n",
              "4 Blondes                                              NaN     NaN     NaN   \n",
              "A Bend in the Road                                     0.0     NaN     7.0   \n",
              "...                                                    ...     ...     ...   \n",
              "Year of Wonders                                        NaN     NaN     NaN   \n",
              "You Belong To Me                                       NaN     NaN     NaN   \n",
              "Zen and the Art of Motorcycle Maintenance: An I...     NaN     NaN     NaN   \n",
              "Zoya                                                   NaN     NaN     NaN   \n",
              "\\O\\\" Is for Outlaw\"                                    NaN     NaN     NaN   \n",
              "\n",
              "User_ID                                             2977    3363    4017    \\\n",
              "Book_Title                                                                   \n",
              "1984                                                   NaN     NaN     NaN   \n",
              "1st to Die: A Novel                                    NaN     NaN     NaN   \n",
              "2nd Chance                                             NaN     NaN     NaN   \n",
              "4 Blondes                                              NaN     NaN     NaN   \n",
              "A Bend in the Road                                     NaN     NaN     NaN   \n",
              "...                                                    ...     ...     ...   \n",
              "Year of Wonders                                        7.0     NaN     NaN   \n",
              "You Belong To Me                                       NaN     NaN     NaN   \n",
              "Zen and the Art of Motorcycle Maintenance: An I...     NaN     0.0     NaN   \n",
              "Zoya                                                   NaN     NaN     NaN   \n",
              "\\O\\\" Is for Outlaw\"                                    NaN     NaN     NaN   \n",
              "\n",
              "User_ID                                             4385    6251    6323    \\\n",
              "Book_Title                                                                   \n",
              "1984                                                   NaN     NaN     NaN   \n",
              "1st to Die: A Novel                                    NaN     NaN     NaN   \n",
              "2nd Chance                                             NaN     NaN     NaN   \n",
              "4 Blondes                                              NaN     0.0     NaN   \n",
              "A Bend in the Road                                     NaN     NaN     NaN   \n",
              "...                                                    ...     ...     ...   \n",
              "Year of Wonders                                        NaN     NaN     NaN   \n",
              "You Belong To Me                                       NaN     NaN     0.0   \n",
              "Zen and the Art of Motorcycle Maintenance: An I...     NaN     0.0     NaN   \n",
              "Zoya                                                   NaN     NaN     NaN   \n",
              "\\O\\\" Is for Outlaw\"                                    NaN     NaN     NaN   \n",
              "\n",
              "User_ID                                             6543    ...  271705  \\\n",
              "Book_Title                                                  ...           \n",
              "1984                                                   NaN  ...    10.0   \n",
              "1st to Die: A Novel                                    9.0  ...     NaN   \n",
              "2nd Chance                                             0.0  ...     NaN   \n",
              "4 Blondes                                              NaN  ...     NaN   \n",
              "A Bend in the Road                                     NaN  ...     NaN   \n",
              "...                                                    ...  ...     ...   \n",
              "Year of Wonders                                        0.0  ...     NaN   \n",
              "You Belong To Me                                       NaN  ...     NaN   \n",
              "Zen and the Art of Motorcycle Maintenance: An I...     NaN  ...     NaN   \n",
              "Zoya                                                   NaN  ...     NaN   \n",
              "\\O\\\" Is for Outlaw\"                                    NaN  ...     NaN   \n",
              "\n",
              "User_ID                                             273979  274004  274061  \\\n",
              "Book_Title                                                                   \n",
              "1984                                                   NaN     NaN     NaN   \n",
              "1st to Die: A Novel                                    NaN     NaN     NaN   \n",
              "2nd Chance                                             NaN     NaN     NaN   \n",
              "4 Blondes                                              NaN     NaN     NaN   \n",
              "A Bend in the Road                                     0.0     NaN     NaN   \n",
              "...                                                    ...     ...     ...   \n",
              "Year of Wonders                                        9.0     NaN     NaN   \n",
              "You Belong To Me                                       NaN     NaN     NaN   \n",
              "Zen and the Art of Motorcycle Maintenance: An I...     NaN     NaN     NaN   \n",
              "Zoya                                                   0.0     NaN     NaN   \n",
              "\\O\\\" Is for Outlaw\"                                    NaN     NaN     NaN   \n",
              "\n",
              "User_ID                                             274301  274308  275970  \\\n",
              "Book_Title                                                                   \n",
              "1984                                                   NaN     NaN     0.0   \n",
              "1st to Die: A Novel                                    NaN     NaN     NaN   \n",
              "2nd Chance                                             NaN     0.0     NaN   \n",
              "4 Blondes                                              NaN     NaN     NaN   \n",
              "A Bend in the Road                                     NaN     NaN     NaN   \n",
              "...                                                    ...     ...     ...   \n",
              "Year of Wonders                                        NaN     NaN     0.0   \n",
              "You Belong To Me                                       NaN     NaN     NaN   \n",
              "Zen and the Art of Motorcycle Maintenance: An I...     NaN     NaN     0.0   \n",
              "Zoya                                                   NaN     NaN     NaN   \n",
              "\\O\\\" Is for Outlaw\"                                    8.0     NaN     NaN   \n",
              "\n",
              "User_ID                                             277427  277639  278418  \n",
              "Book_Title                                                                  \n",
              "1984                                                   NaN     NaN     NaN  \n",
              "1st to Die: A Novel                                    NaN     NaN     NaN  \n",
              "2nd Chance                                             NaN     0.0     NaN  \n",
              "4 Blondes                                              NaN     NaN     NaN  \n",
              "A Bend in the Road                                     NaN     NaN     NaN  \n",
              "...                                                    ...     ...     ...  \n",
              "Year of Wonders                                        NaN     NaN     NaN  \n",
              "You Belong To Me                                       NaN     NaN     NaN  \n",
              "Zen and the Art of Motorcycle Maintenance: An I...     NaN     NaN     NaN  \n",
              "Zoya                                                   NaN     NaN     NaN  \n",
              "\\O\\\" Is for Outlaw\"                                    NaN     NaN     NaN  \n",
              "\n",
              "[706 rows x 810 columns]"
            ]
          },
          "execution_count": 42,
          "metadata": {},
          "output_type": "execute_result"
        }
      ],
      "source": [
        "# Pivot the DataFrame to create a user-item matrix\n",
        "# Rows are 'Book_Title', columns are 'User_ID', and the values are 'Book_Rating'\n",
        "user_item_matrix = final_ratings.pivot_table(columns='User_ID', index='Book_Title', values= 'Book_Rating')\n",
        "\n",
        "user_item_matrix"
      ]
    },
    {
      "cell_type": "code",
      "execution_count": 43,
      "metadata": {
        "colab": {
          "base_uri": "https://localhost:8080/",
          "height": 450
        },
        "id": "puQgx7On91L3",
        "outputId": "fc8f068e-ffd2-4c32-ee8b-09c9f0f0791e"
      },
      "outputs": [
        {
          "data": {
            "text/html": [
              "<div>\n",
              "<style scoped>\n",
              "    .dataframe tbody tr th:only-of-type {\n",
              "        vertical-align: middle;\n",
              "    }\n",
              "\n",
              "    .dataframe tbody tr th {\n",
              "        vertical-align: top;\n",
              "    }\n",
              "\n",
              "    .dataframe thead th {\n",
              "        text-align: right;\n",
              "    }\n",
              "</style>\n",
              "<table border=\"1\" class=\"dataframe\">\n",
              "  <thead>\n",
              "    <tr style=\"text-align: right;\">\n",
              "      <th>User_ID</th>\n",
              "      <th>254</th>\n",
              "      <th>2276</th>\n",
              "      <th>2766</th>\n",
              "      <th>2977</th>\n",
              "      <th>3363</th>\n",
              "      <th>4017</th>\n",
              "      <th>4385</th>\n",
              "      <th>6251</th>\n",
              "      <th>6323</th>\n",
              "      <th>6543</th>\n",
              "      <th>...</th>\n",
              "      <th>271705</th>\n",
              "      <th>273979</th>\n",
              "      <th>274004</th>\n",
              "      <th>274061</th>\n",
              "      <th>274301</th>\n",
              "      <th>274308</th>\n",
              "      <th>275970</th>\n",
              "      <th>277427</th>\n",
              "      <th>277639</th>\n",
              "      <th>278418</th>\n",
              "    </tr>\n",
              "    <tr>\n",
              "      <th>Book_Title</th>\n",
              "      <th></th>\n",
              "      <th></th>\n",
              "      <th></th>\n",
              "      <th></th>\n",
              "      <th></th>\n",
              "      <th></th>\n",
              "      <th></th>\n",
              "      <th></th>\n",
              "      <th></th>\n",
              "      <th></th>\n",
              "      <th></th>\n",
              "      <th></th>\n",
              "      <th></th>\n",
              "      <th></th>\n",
              "      <th></th>\n",
              "      <th></th>\n",
              "      <th></th>\n",
              "      <th></th>\n",
              "      <th></th>\n",
              "      <th></th>\n",
              "      <th></th>\n",
              "    </tr>\n",
              "  </thead>\n",
              "  <tbody>\n",
              "    <tr>\n",
              "      <th>1984</th>\n",
              "      <td>9.0</td>\n",
              "      <td>0.0</td>\n",
              "      <td>0.0</td>\n",
              "      <td>0.0</td>\n",
              "      <td>0.0</td>\n",
              "      <td>0.0</td>\n",
              "      <td>0.0</td>\n",
              "      <td>0.0</td>\n",
              "      <td>0.0</td>\n",
              "      <td>0.0</td>\n",
              "      <td>...</td>\n",
              "      <td>10.0</td>\n",
              "      <td>0.0</td>\n",
              "      <td>0.0</td>\n",
              "      <td>0.0</td>\n",
              "      <td>0.0</td>\n",
              "      <td>0.0</td>\n",
              "      <td>0.0</td>\n",
              "      <td>0.0</td>\n",
              "      <td>0.0</td>\n",
              "      <td>0.0</td>\n",
              "    </tr>\n",
              "    <tr>\n",
              "      <th>1st to Die: A Novel</th>\n",
              "      <td>0.0</td>\n",
              "      <td>0.0</td>\n",
              "      <td>0.0</td>\n",
              "      <td>0.0</td>\n",
              "      <td>0.0</td>\n",
              "      <td>0.0</td>\n",
              "      <td>0.0</td>\n",
              "      <td>0.0</td>\n",
              "      <td>0.0</td>\n",
              "      <td>9.0</td>\n",
              "      <td>...</td>\n",
              "      <td>0.0</td>\n",
              "      <td>0.0</td>\n",
              "      <td>0.0</td>\n",
              "      <td>0.0</td>\n",
              "      <td>0.0</td>\n",
              "      <td>0.0</td>\n",
              "      <td>0.0</td>\n",
              "      <td>0.0</td>\n",
              "      <td>0.0</td>\n",
              "      <td>0.0</td>\n",
              "    </tr>\n",
              "    <tr>\n",
              "      <th>2nd Chance</th>\n",
              "      <td>0.0</td>\n",
              "      <td>10.0</td>\n",
              "      <td>0.0</td>\n",
              "      <td>0.0</td>\n",
              "      <td>0.0</td>\n",
              "      <td>0.0</td>\n",
              "      <td>0.0</td>\n",
              "      <td>0.0</td>\n",
              "      <td>0.0</td>\n",
              "      <td>0.0</td>\n",
              "      <td>...</td>\n",
              "      <td>0.0</td>\n",
              "      <td>0.0</td>\n",
              "      <td>0.0</td>\n",
              "      <td>0.0</td>\n",
              "      <td>0.0</td>\n",
              "      <td>0.0</td>\n",
              "      <td>0.0</td>\n",
              "      <td>0.0</td>\n",
              "      <td>0.0</td>\n",
              "      <td>0.0</td>\n",
              "    </tr>\n",
              "    <tr>\n",
              "      <th>4 Blondes</th>\n",
              "      <td>0.0</td>\n",
              "      <td>0.0</td>\n",
              "      <td>0.0</td>\n",
              "      <td>0.0</td>\n",
              "      <td>0.0</td>\n",
              "      <td>0.0</td>\n",
              "      <td>0.0</td>\n",
              "      <td>0.0</td>\n",
              "      <td>0.0</td>\n",
              "      <td>0.0</td>\n",
              "      <td>...</td>\n",
              "      <td>0.0</td>\n",
              "      <td>0.0</td>\n",
              "      <td>0.0</td>\n",
              "      <td>0.0</td>\n",
              "      <td>0.0</td>\n",
              "      <td>0.0</td>\n",
              "      <td>0.0</td>\n",
              "      <td>0.0</td>\n",
              "      <td>0.0</td>\n",
              "      <td>0.0</td>\n",
              "    </tr>\n",
              "    <tr>\n",
              "      <th>A Bend in the Road</th>\n",
              "      <td>0.0</td>\n",
              "      <td>0.0</td>\n",
              "      <td>7.0</td>\n",
              "      <td>0.0</td>\n",
              "      <td>0.0</td>\n",
              "      <td>0.0</td>\n",
              "      <td>0.0</td>\n",
              "      <td>0.0</td>\n",
              "      <td>0.0</td>\n",
              "      <td>0.0</td>\n",
              "      <td>...</td>\n",
              "      <td>0.0</td>\n",
              "      <td>0.0</td>\n",
              "      <td>0.0</td>\n",
              "      <td>0.0</td>\n",
              "      <td>0.0</td>\n",
              "      <td>0.0</td>\n",
              "      <td>0.0</td>\n",
              "      <td>0.0</td>\n",
              "      <td>0.0</td>\n",
              "      <td>0.0</td>\n",
              "    </tr>\n",
              "    <tr>\n",
              "      <th>...</th>\n",
              "      <td>...</td>\n",
              "      <td>...</td>\n",
              "      <td>...</td>\n",
              "      <td>...</td>\n",
              "      <td>...</td>\n",
              "      <td>...</td>\n",
              "      <td>...</td>\n",
              "      <td>...</td>\n",
              "      <td>...</td>\n",
              "      <td>...</td>\n",
              "      <td>...</td>\n",
              "      <td>...</td>\n",
              "      <td>...</td>\n",
              "      <td>...</td>\n",
              "      <td>...</td>\n",
              "      <td>...</td>\n",
              "      <td>...</td>\n",
              "      <td>...</td>\n",
              "      <td>...</td>\n",
              "      <td>...</td>\n",
              "      <td>...</td>\n",
              "    </tr>\n",
              "    <tr>\n",
              "      <th>Year of Wonders</th>\n",
              "      <td>0.0</td>\n",
              "      <td>0.0</td>\n",
              "      <td>0.0</td>\n",
              "      <td>7.0</td>\n",
              "      <td>0.0</td>\n",
              "      <td>0.0</td>\n",
              "      <td>0.0</td>\n",
              "      <td>0.0</td>\n",
              "      <td>0.0</td>\n",
              "      <td>0.0</td>\n",
              "      <td>...</td>\n",
              "      <td>0.0</td>\n",
              "      <td>9.0</td>\n",
              "      <td>0.0</td>\n",
              "      <td>0.0</td>\n",
              "      <td>0.0</td>\n",
              "      <td>0.0</td>\n",
              "      <td>0.0</td>\n",
              "      <td>0.0</td>\n",
              "      <td>0.0</td>\n",
              "      <td>0.0</td>\n",
              "    </tr>\n",
              "    <tr>\n",
              "      <th>You Belong To Me</th>\n",
              "      <td>0.0</td>\n",
              "      <td>0.0</td>\n",
              "      <td>0.0</td>\n",
              "      <td>0.0</td>\n",
              "      <td>0.0</td>\n",
              "      <td>0.0</td>\n",
              "      <td>0.0</td>\n",
              "      <td>0.0</td>\n",
              "      <td>0.0</td>\n",
              "      <td>0.0</td>\n",
              "      <td>...</td>\n",
              "      <td>0.0</td>\n",
              "      <td>0.0</td>\n",
              "      <td>0.0</td>\n",
              "      <td>0.0</td>\n",
              "      <td>0.0</td>\n",
              "      <td>0.0</td>\n",
              "      <td>0.0</td>\n",
              "      <td>0.0</td>\n",
              "      <td>0.0</td>\n",
              "      <td>0.0</td>\n",
              "    </tr>\n",
              "    <tr>\n",
              "      <th>Zen and the Art of Motorcycle Maintenance: An Inquiry into Values</th>\n",
              "      <td>0.0</td>\n",
              "      <td>0.0</td>\n",
              "      <td>0.0</td>\n",
              "      <td>0.0</td>\n",
              "      <td>0.0</td>\n",
              "      <td>0.0</td>\n",
              "      <td>0.0</td>\n",
              "      <td>0.0</td>\n",
              "      <td>0.0</td>\n",
              "      <td>0.0</td>\n",
              "      <td>...</td>\n",
              "      <td>0.0</td>\n",
              "      <td>0.0</td>\n",
              "      <td>0.0</td>\n",
              "      <td>0.0</td>\n",
              "      <td>0.0</td>\n",
              "      <td>0.0</td>\n",
              "      <td>0.0</td>\n",
              "      <td>0.0</td>\n",
              "      <td>0.0</td>\n",
              "      <td>0.0</td>\n",
              "    </tr>\n",
              "    <tr>\n",
              "      <th>Zoya</th>\n",
              "      <td>0.0</td>\n",
              "      <td>0.0</td>\n",
              "      <td>0.0</td>\n",
              "      <td>0.0</td>\n",
              "      <td>0.0</td>\n",
              "      <td>0.0</td>\n",
              "      <td>0.0</td>\n",
              "      <td>0.0</td>\n",
              "      <td>0.0</td>\n",
              "      <td>0.0</td>\n",
              "      <td>...</td>\n",
              "      <td>0.0</td>\n",
              "      <td>0.0</td>\n",
              "      <td>0.0</td>\n",
              "      <td>0.0</td>\n",
              "      <td>0.0</td>\n",
              "      <td>0.0</td>\n",
              "      <td>0.0</td>\n",
              "      <td>0.0</td>\n",
              "      <td>0.0</td>\n",
              "      <td>0.0</td>\n",
              "    </tr>\n",
              "    <tr>\n",
              "      <th>\\O\\\" Is for Outlaw\"</th>\n",
              "      <td>0.0</td>\n",
              "      <td>0.0</td>\n",
              "      <td>0.0</td>\n",
              "      <td>0.0</td>\n",
              "      <td>0.0</td>\n",
              "      <td>0.0</td>\n",
              "      <td>0.0</td>\n",
              "      <td>0.0</td>\n",
              "      <td>0.0</td>\n",
              "      <td>0.0</td>\n",
              "      <td>...</td>\n",
              "      <td>0.0</td>\n",
              "      <td>0.0</td>\n",
              "      <td>0.0</td>\n",
              "      <td>0.0</td>\n",
              "      <td>8.0</td>\n",
              "      <td>0.0</td>\n",
              "      <td>0.0</td>\n",
              "      <td>0.0</td>\n",
              "      <td>0.0</td>\n",
              "      <td>0.0</td>\n",
              "    </tr>\n",
              "  </tbody>\n",
              "</table>\n",
              "<p>706 rows × 810 columns</p>\n",
              "</div>"
            ],
            "text/plain": [
              "User_ID                                             254     2276    2766    \\\n",
              "Book_Title                                                                   \n",
              "1984                                                   9.0     0.0     0.0   \n",
              "1st to Die: A Novel                                    0.0     0.0     0.0   \n",
              "2nd Chance                                             0.0    10.0     0.0   \n",
              "4 Blondes                                              0.0     0.0     0.0   \n",
              "A Bend in the Road                                     0.0     0.0     7.0   \n",
              "...                                                    ...     ...     ...   \n",
              "Year of Wonders                                        0.0     0.0     0.0   \n",
              "You Belong To Me                                       0.0     0.0     0.0   \n",
              "Zen and the Art of Motorcycle Maintenance: An I...     0.0     0.0     0.0   \n",
              "Zoya                                                   0.0     0.0     0.0   \n",
              "\\O\\\" Is for Outlaw\"                                    0.0     0.0     0.0   \n",
              "\n",
              "User_ID                                             2977    3363    4017    \\\n",
              "Book_Title                                                                   \n",
              "1984                                                   0.0     0.0     0.0   \n",
              "1st to Die: A Novel                                    0.0     0.0     0.0   \n",
              "2nd Chance                                             0.0     0.0     0.0   \n",
              "4 Blondes                                              0.0     0.0     0.0   \n",
              "A Bend in the Road                                     0.0     0.0     0.0   \n",
              "...                                                    ...     ...     ...   \n",
              "Year of Wonders                                        7.0     0.0     0.0   \n",
              "You Belong To Me                                       0.0     0.0     0.0   \n",
              "Zen and the Art of Motorcycle Maintenance: An I...     0.0     0.0     0.0   \n",
              "Zoya                                                   0.0     0.0     0.0   \n",
              "\\O\\\" Is for Outlaw\"                                    0.0     0.0     0.0   \n",
              "\n",
              "User_ID                                             4385    6251    6323    \\\n",
              "Book_Title                                                                   \n",
              "1984                                                   0.0     0.0     0.0   \n",
              "1st to Die: A Novel                                    0.0     0.0     0.0   \n",
              "2nd Chance                                             0.0     0.0     0.0   \n",
              "4 Blondes                                              0.0     0.0     0.0   \n",
              "A Bend in the Road                                     0.0     0.0     0.0   \n",
              "...                                                    ...     ...     ...   \n",
              "Year of Wonders                                        0.0     0.0     0.0   \n",
              "You Belong To Me                                       0.0     0.0     0.0   \n",
              "Zen and the Art of Motorcycle Maintenance: An I...     0.0     0.0     0.0   \n",
              "Zoya                                                   0.0     0.0     0.0   \n",
              "\\O\\\" Is for Outlaw\"                                    0.0     0.0     0.0   \n",
              "\n",
              "User_ID                                             6543    ...  271705  \\\n",
              "Book_Title                                                  ...           \n",
              "1984                                                   0.0  ...    10.0   \n",
              "1st to Die: A Novel                                    9.0  ...     0.0   \n",
              "2nd Chance                                             0.0  ...     0.0   \n",
              "4 Blondes                                              0.0  ...     0.0   \n",
              "A Bend in the Road                                     0.0  ...     0.0   \n",
              "...                                                    ...  ...     ...   \n",
              "Year of Wonders                                        0.0  ...     0.0   \n",
              "You Belong To Me                                       0.0  ...     0.0   \n",
              "Zen and the Art of Motorcycle Maintenance: An I...     0.0  ...     0.0   \n",
              "Zoya                                                   0.0  ...     0.0   \n",
              "\\O\\\" Is for Outlaw\"                                    0.0  ...     0.0   \n",
              "\n",
              "User_ID                                             273979  274004  274061  \\\n",
              "Book_Title                                                                   \n",
              "1984                                                   0.0     0.0     0.0   \n",
              "1st to Die: A Novel                                    0.0     0.0     0.0   \n",
              "2nd Chance                                             0.0     0.0     0.0   \n",
              "4 Blondes                                              0.0     0.0     0.0   \n",
              "A Bend in the Road                                     0.0     0.0     0.0   \n",
              "...                                                    ...     ...     ...   \n",
              "Year of Wonders                                        9.0     0.0     0.0   \n",
              "You Belong To Me                                       0.0     0.0     0.0   \n",
              "Zen and the Art of Motorcycle Maintenance: An I...     0.0     0.0     0.0   \n",
              "Zoya                                                   0.0     0.0     0.0   \n",
              "\\O\\\" Is for Outlaw\"                                    0.0     0.0     0.0   \n",
              "\n",
              "User_ID                                             274301  274308  275970  \\\n",
              "Book_Title                                                                   \n",
              "1984                                                   0.0     0.0     0.0   \n",
              "1st to Die: A Novel                                    0.0     0.0     0.0   \n",
              "2nd Chance                                             0.0     0.0     0.0   \n",
              "4 Blondes                                              0.0     0.0     0.0   \n",
              "A Bend in the Road                                     0.0     0.0     0.0   \n",
              "...                                                    ...     ...     ...   \n",
              "Year of Wonders                                        0.0     0.0     0.0   \n",
              "You Belong To Me                                       0.0     0.0     0.0   \n",
              "Zen and the Art of Motorcycle Maintenance: An I...     0.0     0.0     0.0   \n",
              "Zoya                                                   0.0     0.0     0.0   \n",
              "\\O\\\" Is for Outlaw\"                                    8.0     0.0     0.0   \n",
              "\n",
              "User_ID                                             277427  277639  278418  \n",
              "Book_Title                                                                  \n",
              "1984                                                   0.0     0.0     0.0  \n",
              "1st to Die: A Novel                                    0.0     0.0     0.0  \n",
              "2nd Chance                                             0.0     0.0     0.0  \n",
              "4 Blondes                                              0.0     0.0     0.0  \n",
              "A Bend in the Road                                     0.0     0.0     0.0  \n",
              "...                                                    ...     ...     ...  \n",
              "Year of Wonders                                        0.0     0.0     0.0  \n",
              "You Belong To Me                                       0.0     0.0     0.0  \n",
              "Zen and the Art of Motorcycle Maintenance: An I...     0.0     0.0     0.0  \n",
              "Zoya                                                   0.0     0.0     0.0  \n",
              "\\O\\\" Is for Outlaw\"                                    0.0     0.0     0.0  \n",
              "\n",
              "[706 rows x 810 columns]"
            ]
          },
          "execution_count": 43,
          "metadata": {},
          "output_type": "execute_result"
        }
      ],
      "source": [
        "#Handle Missing Values (fill with 0)\n",
        "user_item_matrix_filled = user_item_matrix.fillna(0)\n",
        "\n",
        "user_item_matrix_filled"
      ]
    },
    {
      "cell_type": "markdown",
      "metadata": {
        "id": "6pthCyMUOPf7"
      },
      "source": [
        "#Model Training"
      ]
    },
    {
      "cell_type": "code",
      "execution_count": 45,
      "metadata": {
        "id": "qAk98Lm15Ghn"
      },
      "outputs": [],
      "source": [
        "# Convert the filled user-item matrix to a sparse matrix format\n",
        "# This is efficient for storage and computation, especially with large matrices that contain many zeroes\n",
        "book_sparse = csr_matrix(user_item_matrix_filled)"
      ]
    },
    {
      "cell_type": "code",
      "execution_count": 46,
      "metadata": {
        "colab": {
          "base_uri": "https://localhost:8080/",
          "height": 74
        },
        "id": "V-Sru50R5Gj9",
        "outputId": "47e8c83b-f463-4bab-e01a-8582a1d395ab"
      },
      "outputs": [
        {
          "data": {
            "text/html": [
              "<style>#sk-container-id-1 {\n",
              "  /* Definition of color scheme common for light and dark mode */\n",
              "  --sklearn-color-text: black;\n",
              "  --sklearn-color-line: gray;\n",
              "  /* Definition of color scheme for unfitted estimators */\n",
              "  --sklearn-color-unfitted-level-0: #fff5e6;\n",
              "  --sklearn-color-unfitted-level-1: #f6e4d2;\n",
              "  --sklearn-color-unfitted-level-2: #ffe0b3;\n",
              "  --sklearn-color-unfitted-level-3: chocolate;\n",
              "  /* Definition of color scheme for fitted estimators */\n",
              "  --sklearn-color-fitted-level-0: #f0f8ff;\n",
              "  --sklearn-color-fitted-level-1: #d4ebff;\n",
              "  --sklearn-color-fitted-level-2: #b3dbfd;\n",
              "  --sklearn-color-fitted-level-3: cornflowerblue;\n",
              "\n",
              "  /* Specific color for light theme */\n",
              "  --sklearn-color-text-on-default-background: var(--sg-text-color, var(--theme-code-foreground, var(--jp-content-font-color1, black)));\n",
              "  --sklearn-color-background: var(--sg-background-color, var(--theme-background, var(--jp-layout-color0, white)));\n",
              "  --sklearn-color-border-box: var(--sg-text-color, var(--theme-code-foreground, var(--jp-content-font-color1, black)));\n",
              "  --sklearn-color-icon: #696969;\n",
              "\n",
              "  @media (prefers-color-scheme: dark) {\n",
              "    /* Redefinition of color scheme for dark theme */\n",
              "    --sklearn-color-text-on-default-background: var(--sg-text-color, var(--theme-code-foreground, var(--jp-content-font-color1, white)));\n",
              "    --sklearn-color-background: var(--sg-background-color, var(--theme-background, var(--jp-layout-color0, #111)));\n",
              "    --sklearn-color-border-box: var(--sg-text-color, var(--theme-code-foreground, var(--jp-content-font-color1, white)));\n",
              "    --sklearn-color-icon: #878787;\n",
              "  }\n",
              "}\n",
              "\n",
              "#sk-container-id-1 {\n",
              "  color: var(--sklearn-color-text);\n",
              "}\n",
              "\n",
              "#sk-container-id-1 pre {\n",
              "  padding: 0;\n",
              "}\n",
              "\n",
              "#sk-container-id-1 input.sk-hidden--visually {\n",
              "  border: 0;\n",
              "  clip: rect(1px 1px 1px 1px);\n",
              "  clip: rect(1px, 1px, 1px, 1px);\n",
              "  height: 1px;\n",
              "  margin: -1px;\n",
              "  overflow: hidden;\n",
              "  padding: 0;\n",
              "  position: absolute;\n",
              "  width: 1px;\n",
              "}\n",
              "\n",
              "#sk-container-id-1 div.sk-dashed-wrapped {\n",
              "  border: 1px dashed var(--sklearn-color-line);\n",
              "  margin: 0 0.4em 0.5em 0.4em;\n",
              "  box-sizing: border-box;\n",
              "  padding-bottom: 0.4em;\n",
              "  background-color: var(--sklearn-color-background);\n",
              "}\n",
              "\n",
              "#sk-container-id-1 div.sk-container {\n",
              "  /* jupyter's `normalize.less` sets `[hidden] { display: none; }`\n",
              "     but bootstrap.min.css set `[hidden] { display: none !important; }`\n",
              "     so we also need the `!important` here to be able to override the\n",
              "     default hidden behavior on the sphinx rendered scikit-learn.org.\n",
              "     See: https://github.com/scikit-learn/scikit-learn/issues/21755 */\n",
              "  display: inline-block !important;\n",
              "  position: relative;\n",
              "}\n",
              "\n",
              "#sk-container-id-1 div.sk-text-repr-fallback {\n",
              "  display: none;\n",
              "}\n",
              "\n",
              "div.sk-parallel-item,\n",
              "div.sk-serial,\n",
              "div.sk-item {\n",
              "  /* draw centered vertical line to link estimators */\n",
              "  background-image: linear-gradient(var(--sklearn-color-text-on-default-background), var(--sklearn-color-text-on-default-background));\n",
              "  background-size: 2px 100%;\n",
              "  background-repeat: no-repeat;\n",
              "  background-position: center center;\n",
              "}\n",
              "\n",
              "/* Parallel-specific style estimator block */\n",
              "\n",
              "#sk-container-id-1 div.sk-parallel-item::after {\n",
              "  content: \"\";\n",
              "  width: 100%;\n",
              "  border-bottom: 2px solid var(--sklearn-color-text-on-default-background);\n",
              "  flex-grow: 1;\n",
              "}\n",
              "\n",
              "#sk-container-id-1 div.sk-parallel {\n",
              "  display: flex;\n",
              "  align-items: stretch;\n",
              "  justify-content: center;\n",
              "  background-color: var(--sklearn-color-background);\n",
              "  position: relative;\n",
              "}\n",
              "\n",
              "#sk-container-id-1 div.sk-parallel-item {\n",
              "  display: flex;\n",
              "  flex-direction: column;\n",
              "}\n",
              "\n",
              "#sk-container-id-1 div.sk-parallel-item:first-child::after {\n",
              "  align-self: flex-end;\n",
              "  width: 50%;\n",
              "}\n",
              "\n",
              "#sk-container-id-1 div.sk-parallel-item:last-child::after {\n",
              "  align-self: flex-start;\n",
              "  width: 50%;\n",
              "}\n",
              "\n",
              "#sk-container-id-1 div.sk-parallel-item:only-child::after {\n",
              "  width: 0;\n",
              "}\n",
              "\n",
              "/* Serial-specific style estimator block */\n",
              "\n",
              "#sk-container-id-1 div.sk-serial {\n",
              "  display: flex;\n",
              "  flex-direction: column;\n",
              "  align-items: center;\n",
              "  background-color: var(--sklearn-color-background);\n",
              "  padding-right: 1em;\n",
              "  padding-left: 1em;\n",
              "}\n",
              "\n",
              "\n",
              "/* Toggleable style: style used for estimator/Pipeline/ColumnTransformer box that is\n",
              "clickable and can be expanded/collapsed.\n",
              "- Pipeline and ColumnTransformer use this feature and define the default style\n",
              "- Estimators will overwrite some part of the style using the `sk-estimator` class\n",
              "*/\n",
              "\n",
              "/* Pipeline and ColumnTransformer style (default) */\n",
              "\n",
              "#sk-container-id-1 div.sk-toggleable {\n",
              "  /* Default theme specific background. It is overwritten whether we have a\n",
              "  specific estimator or a Pipeline/ColumnTransformer */\n",
              "  background-color: var(--sklearn-color-background);\n",
              "}\n",
              "\n",
              "/* Toggleable label */\n",
              "#sk-container-id-1 label.sk-toggleable__label {\n",
              "  cursor: pointer;\n",
              "  display: block;\n",
              "  width: 100%;\n",
              "  margin-bottom: 0;\n",
              "  padding: 0.5em;\n",
              "  box-sizing: border-box;\n",
              "  text-align: center;\n",
              "}\n",
              "\n",
              "#sk-container-id-1 label.sk-toggleable__label-arrow:before {\n",
              "  /* Arrow on the left of the label */\n",
              "  content: \"▸\";\n",
              "  float: left;\n",
              "  margin-right: 0.25em;\n",
              "  color: var(--sklearn-color-icon);\n",
              "}\n",
              "\n",
              "#sk-container-id-1 label.sk-toggleable__label-arrow:hover:before {\n",
              "  color: var(--sklearn-color-text);\n",
              "}\n",
              "\n",
              "/* Toggleable content - dropdown */\n",
              "\n",
              "#sk-container-id-1 div.sk-toggleable__content {\n",
              "  max-height: 0;\n",
              "  max-width: 0;\n",
              "  overflow: hidden;\n",
              "  text-align: left;\n",
              "  /* unfitted */\n",
              "  background-color: var(--sklearn-color-unfitted-level-0);\n",
              "}\n",
              "\n",
              "#sk-container-id-1 div.sk-toggleable__content.fitted {\n",
              "  /* fitted */\n",
              "  background-color: var(--sklearn-color-fitted-level-0);\n",
              "}\n",
              "\n",
              "#sk-container-id-1 div.sk-toggleable__content pre {\n",
              "  margin: 0.2em;\n",
              "  border-radius: 0.25em;\n",
              "  color: var(--sklearn-color-text);\n",
              "  /* unfitted */\n",
              "  background-color: var(--sklearn-color-unfitted-level-0);\n",
              "}\n",
              "\n",
              "#sk-container-id-1 div.sk-toggleable__content.fitted pre {\n",
              "  /* unfitted */\n",
              "  background-color: var(--sklearn-color-fitted-level-0);\n",
              "}\n",
              "\n",
              "#sk-container-id-1 input.sk-toggleable__control:checked~div.sk-toggleable__content {\n",
              "  /* Expand drop-down */\n",
              "  max-height: 200px;\n",
              "  max-width: 100%;\n",
              "  overflow: auto;\n",
              "}\n",
              "\n",
              "#sk-container-id-1 input.sk-toggleable__control:checked~label.sk-toggleable__label-arrow:before {\n",
              "  content: \"▾\";\n",
              "}\n",
              "\n",
              "/* Pipeline/ColumnTransformer-specific style */\n",
              "\n",
              "#sk-container-id-1 div.sk-label input.sk-toggleable__control:checked~label.sk-toggleable__label {\n",
              "  color: var(--sklearn-color-text);\n",
              "  background-color: var(--sklearn-color-unfitted-level-2);\n",
              "}\n",
              "\n",
              "#sk-container-id-1 div.sk-label.fitted input.sk-toggleable__control:checked~label.sk-toggleable__label {\n",
              "  background-color: var(--sklearn-color-fitted-level-2);\n",
              "}\n",
              "\n",
              "/* Estimator-specific style */\n",
              "\n",
              "/* Colorize estimator box */\n",
              "#sk-container-id-1 div.sk-estimator input.sk-toggleable__control:checked~label.sk-toggleable__label {\n",
              "  /* unfitted */\n",
              "  background-color: var(--sklearn-color-unfitted-level-2);\n",
              "}\n",
              "\n",
              "#sk-container-id-1 div.sk-estimator.fitted input.sk-toggleable__control:checked~label.sk-toggleable__label {\n",
              "  /* fitted */\n",
              "  background-color: var(--sklearn-color-fitted-level-2);\n",
              "}\n",
              "\n",
              "#sk-container-id-1 div.sk-label label.sk-toggleable__label,\n",
              "#sk-container-id-1 div.sk-label label {\n",
              "  /* The background is the default theme color */\n",
              "  color: var(--sklearn-color-text-on-default-background);\n",
              "}\n",
              "\n",
              "/* On hover, darken the color of the background */\n",
              "#sk-container-id-1 div.sk-label:hover label.sk-toggleable__label {\n",
              "  color: var(--sklearn-color-text);\n",
              "  background-color: var(--sklearn-color-unfitted-level-2);\n",
              "}\n",
              "\n",
              "/* Label box, darken color on hover, fitted */\n",
              "#sk-container-id-1 div.sk-label.fitted:hover label.sk-toggleable__label.fitted {\n",
              "  color: var(--sklearn-color-text);\n",
              "  background-color: var(--sklearn-color-fitted-level-2);\n",
              "}\n",
              "\n",
              "/* Estimator label */\n",
              "\n",
              "#sk-container-id-1 div.sk-label label {\n",
              "  font-family: monospace;\n",
              "  font-weight: bold;\n",
              "  display: inline-block;\n",
              "  line-height: 1.2em;\n",
              "}\n",
              "\n",
              "#sk-container-id-1 div.sk-label-container {\n",
              "  text-align: center;\n",
              "}\n",
              "\n",
              "/* Estimator-specific */\n",
              "#sk-container-id-1 div.sk-estimator {\n",
              "  font-family: monospace;\n",
              "  border: 1px dotted var(--sklearn-color-border-box);\n",
              "  border-radius: 0.25em;\n",
              "  box-sizing: border-box;\n",
              "  margin-bottom: 0.5em;\n",
              "  /* unfitted */\n",
              "  background-color: var(--sklearn-color-unfitted-level-0);\n",
              "}\n",
              "\n",
              "#sk-container-id-1 div.sk-estimator.fitted {\n",
              "  /* fitted */\n",
              "  background-color: var(--sklearn-color-fitted-level-0);\n",
              "}\n",
              "\n",
              "/* on hover */\n",
              "#sk-container-id-1 div.sk-estimator:hover {\n",
              "  /* unfitted */\n",
              "  background-color: var(--sklearn-color-unfitted-level-2);\n",
              "}\n",
              "\n",
              "#sk-container-id-1 div.sk-estimator.fitted:hover {\n",
              "  /* fitted */\n",
              "  background-color: var(--sklearn-color-fitted-level-2);\n",
              "}\n",
              "\n",
              "/* Specification for estimator info (e.g. \"i\" and \"?\") */\n",
              "\n",
              "/* Common style for \"i\" and \"?\" */\n",
              "\n",
              ".sk-estimator-doc-link,\n",
              "a:link.sk-estimator-doc-link,\n",
              "a:visited.sk-estimator-doc-link {\n",
              "  float: right;\n",
              "  font-size: smaller;\n",
              "  line-height: 1em;\n",
              "  font-family: monospace;\n",
              "  background-color: var(--sklearn-color-background);\n",
              "  border-radius: 1em;\n",
              "  height: 1em;\n",
              "  width: 1em;\n",
              "  text-decoration: none !important;\n",
              "  margin-left: 1ex;\n",
              "  /* unfitted */\n",
              "  border: var(--sklearn-color-unfitted-level-1) 1pt solid;\n",
              "  color: var(--sklearn-color-unfitted-level-1);\n",
              "}\n",
              "\n",
              ".sk-estimator-doc-link.fitted,\n",
              "a:link.sk-estimator-doc-link.fitted,\n",
              "a:visited.sk-estimator-doc-link.fitted {\n",
              "  /* fitted */\n",
              "  border: var(--sklearn-color-fitted-level-1) 1pt solid;\n",
              "  color: var(--sklearn-color-fitted-level-1);\n",
              "}\n",
              "\n",
              "/* On hover */\n",
              "div.sk-estimator:hover .sk-estimator-doc-link:hover,\n",
              ".sk-estimator-doc-link:hover,\n",
              "div.sk-label-container:hover .sk-estimator-doc-link:hover,\n",
              ".sk-estimator-doc-link:hover {\n",
              "  /* unfitted */\n",
              "  background-color: var(--sklearn-color-unfitted-level-3);\n",
              "  color: var(--sklearn-color-background);\n",
              "  text-decoration: none;\n",
              "}\n",
              "\n",
              "div.sk-estimator.fitted:hover .sk-estimator-doc-link.fitted:hover,\n",
              ".sk-estimator-doc-link.fitted:hover,\n",
              "div.sk-label-container:hover .sk-estimator-doc-link.fitted:hover,\n",
              ".sk-estimator-doc-link.fitted:hover {\n",
              "  /* fitted */\n",
              "  background-color: var(--sklearn-color-fitted-level-3);\n",
              "  color: var(--sklearn-color-background);\n",
              "  text-decoration: none;\n",
              "}\n",
              "\n",
              "/* Span, style for the box shown on hovering the info icon */\n",
              ".sk-estimator-doc-link span {\n",
              "  display: none;\n",
              "  z-index: 9999;\n",
              "  position: relative;\n",
              "  font-weight: normal;\n",
              "  right: .2ex;\n",
              "  padding: .5ex;\n",
              "  margin: .5ex;\n",
              "  width: min-content;\n",
              "  min-width: 20ex;\n",
              "  max-width: 50ex;\n",
              "  color: var(--sklearn-color-text);\n",
              "  box-shadow: 2pt 2pt 4pt #999;\n",
              "  /* unfitted */\n",
              "  background: var(--sklearn-color-unfitted-level-0);\n",
              "  border: .5pt solid var(--sklearn-color-unfitted-level-3);\n",
              "}\n",
              "\n",
              ".sk-estimator-doc-link.fitted span {\n",
              "  /* fitted */\n",
              "  background: var(--sklearn-color-fitted-level-0);\n",
              "  border: var(--sklearn-color-fitted-level-3);\n",
              "}\n",
              "\n",
              ".sk-estimator-doc-link:hover span {\n",
              "  display: block;\n",
              "}\n",
              "\n",
              "/* \"?\"-specific style due to the `<a>` HTML tag */\n",
              "\n",
              "#sk-container-id-1 a.estimator_doc_link {\n",
              "  float: right;\n",
              "  font-size: 1rem;\n",
              "  line-height: 1em;\n",
              "  font-family: monospace;\n",
              "  background-color: var(--sklearn-color-background);\n",
              "  border-radius: 1rem;\n",
              "  height: 1rem;\n",
              "  width: 1rem;\n",
              "  text-decoration: none;\n",
              "  /* unfitted */\n",
              "  color: var(--sklearn-color-unfitted-level-1);\n",
              "  border: var(--sklearn-color-unfitted-level-1) 1pt solid;\n",
              "}\n",
              "\n",
              "#sk-container-id-1 a.estimator_doc_link.fitted {\n",
              "  /* fitted */\n",
              "  border: var(--sklearn-color-fitted-level-1) 1pt solid;\n",
              "  color: var(--sklearn-color-fitted-level-1);\n",
              "}\n",
              "\n",
              "/* On hover */\n",
              "#sk-container-id-1 a.estimator_doc_link:hover {\n",
              "  /* unfitted */\n",
              "  background-color: var(--sklearn-color-unfitted-level-3);\n",
              "  color: var(--sklearn-color-background);\n",
              "  text-decoration: none;\n",
              "}\n",
              "\n",
              "#sk-container-id-1 a.estimator_doc_link.fitted:hover {\n",
              "  /* fitted */\n",
              "  background-color: var(--sklearn-color-fitted-level-3);\n",
              "}\n",
              "</style><div id=\"sk-container-id-1\" class=\"sk-top-container\"><div class=\"sk-text-repr-fallback\"><pre>NearestNeighbors(algorithm=&#x27;brute&#x27;, metric=&#x27;cosine&#x27;)</pre><b>In a Jupyter environment, please rerun this cell to show the HTML representation or trust the notebook. <br />On GitHub, the HTML representation is unable to render, please try loading this page with nbviewer.org.</b></div><div class=\"sk-container\" hidden><div class=\"sk-item\"><div class=\"sk-estimator fitted sk-toggleable\"><input class=\"sk-toggleable__control sk-hidden--visually\" id=\"sk-estimator-id-1\" type=\"checkbox\" checked><label for=\"sk-estimator-id-1\" class=\"sk-toggleable__label fitted sk-toggleable__label-arrow fitted\">&nbsp;&nbsp;NearestNeighbors<a class=\"sk-estimator-doc-link fitted\" rel=\"noreferrer\" target=\"_blank\" href=\"https://scikit-learn.org/1.5/modules/generated/sklearn.neighbors.NearestNeighbors.html\">?<span>Documentation for NearestNeighbors</span></a><span class=\"sk-estimator-doc-link fitted\">i<span>Fitted</span></span></label><div class=\"sk-toggleable__content fitted\"><pre>NearestNeighbors(algorithm=&#x27;brute&#x27;, metric=&#x27;cosine&#x27;)</pre></div> </div></div></div></div>"
            ],
            "text/plain": [
              "NearestNeighbors(algorithm='brute', metric='cosine')"
            ]
          },
          "execution_count": 46,
          "metadata": {},
          "output_type": "execute_result"
        }
      ],
      "source": [
        "# Initialize the Nearest Neighbors model using the 'brute' algorithm and 'cosine' similarity as the metric\n",
        "# This unsupervised machine learning algorithm finds the nearest neighbors based on the cosine similarity\n",
        "model = NearestNeighbors(algorithm= 'brute',metric='cosine')\n",
        "model.fit(book_sparse)\n"
      ]
    },
    {
      "cell_type": "code",
      "execution_count": 47,
      "metadata": {
        "colab": {
          "base_uri": "https://localhost:8080/"
        },
        "id": "GDAuSACCD35E",
        "outputId": "306e5e97-41bb-4ef3-956b-ec375bd7f83b"
      },
      "outputs": [
        {
          "name": "stdout",
          "output_type": "stream",
          "text": [
            "Distances: [[0.         0.67948966 0.70002088 0.71630418 0.71828125 0.72770943]]\n",
            "Suggestions (Indices): [[237 145 303 137  95  58]]\n"
          ]
        }
      ],
      "source": [
        "#Finding Similar Books using Nearest Neighbors\n",
        "distance, suggestion = model.kneighbors(user_item_matrix_filled.iloc[237, :].values.reshape(1, -1), n_neighbors=6)\n",
        "# Display the distances and suggestions\n",
        "print(\"Distances:\", distance)\n",
        "print(\"Suggestions (Indices):\", suggestion)"
      ]
    },
    {
      "cell_type": "code",
      "execution_count": 48,
      "metadata": {
        "colab": {
          "base_uri": "https://localhost:8080/"
        },
        "id": "Ut0-kqn4FI0h",
        "outputId": "567377ab-cd97-4c17-9549-6948fe0141bc"
      },
      "outputs": [
        {
          "name": "stdout",
          "output_type": "stream",
          "text": [
            "Suggested Books for User at Index 241:\n",
            "Index(['Hearts In Atlantis', 'Desperation', 'Lightning',\n",
            "       'Dark Rivers of the Heart', 'Carrie', 'Bag of Bones'],\n",
            "      dtype='object', name='Book_Title')\n"
          ]
        }
      ],
      "source": [
        "#Show the titles corresponding to the suggestions\n",
        "print(\"Suggested Books for User at Index 241:\")\n",
        "print(user_item_matrix_filled.index[suggestion[0]])"
      ]
    },
    {
      "cell_type": "code",
      "execution_count": 49,
      "metadata": {
        "id": "Yu9n1lfyFI3d"
      },
      "outputs": [],
      "source": [
        "#Keeping a List of Book Titles\n",
        "book_names = user_item_matrix_filled.index"
      ]
    },
    {
      "cell_type": "code",
      "execution_count": 50,
      "metadata": {
        "colab": {
          "base_uri": "https://localhost:8080/"
        },
        "id": "oqe3-c0uFQpn",
        "outputId": "ff2035c4-a4d6-4d6b-edaa-2c0f53ab67bc"
      },
      "outputs": [
        {
          "name": "stdout",
          "output_type": "stream",
          "text": [
            "Index of '4 Blondes': 3\n"
          ]
        }
      ],
      "source": [
        "#Find the index of a specific book\n",
        "book_idx = np.where(user_item_matrix_filled.index == '4 Blondes')[0][0]\n",
        "print(f\"Index of '4 Blondes': {book_idx}\")"
      ]
    },
    {
      "cell_type": "code",
      "execution_count": 51,
      "metadata": {
        "colab": {
          "base_uri": "https://localhost:8080/"
        },
        "id": "q-kagYpFFQsU",
        "outputId": "1315a1a3-95b9-4f9a-f0a0-a3d8b136dd76"
      },
      "outputs": [
        {
          "name": "stdout",
          "output_type": "stream",
          "text": [
            "Image URL for 'Harry Potter and the Chamber of Secrets (Book 2)': http://images.amazon.com/images/P/0439064872.01.LZZZZZZZ.jpg\n"
          ]
        }
      ],
      "source": [
        "#Find the URL of a Specific Book\n",
        "# Assume final_ratings dataframe has a 'Book_Title' and 'Image_URL_Large' columns\n",
        "book_title = \"Harry Potter and the Chamber of Secrets (Book 2)\"\n",
        "ids = np.where(final_ratings['Book_Title'] == book_title)[0][0]\n",
        "image_url = final_ratings.iloc[ids]['Image_URL_Large']\n",
        "print(f\"Image URL for '{book_title}': {image_url}\")\n"
      ]
    },
    {
      "cell_type": "code",
      "execution_count": 52,
      "metadata": {
        "id": "TjitxPzMFQyT"
      },
      "outputs": [],
      "source": [
        "#Get URLs of Suggested Books\n",
        "book_name_list = []\n",
        "for book_id in suggestion[0]:  # Assuming suggestion is an array of indices\n",
        "    book_name_list.append(user_item_matrix_filled.index[book_id])"
      ]
    },
    {
      "cell_type": "code",
      "execution_count": 53,
      "metadata": {
        "id": "7Ppr_DgjFVzi"
      },
      "outputs": [],
      "source": [
        "# Finding the image URLs for these book titles\n",
        "ids_index = []\n",
        "for name in book_name_list:\n",
        "    ids = np.where(final_ratings['Book_Title'] == name)[0][0]\n",
        "    ids_index.append(ids)"
      ]
    },
    {
      "cell_type": "code",
      "execution_count": 54,
      "metadata": {
        "colab": {
          "base_uri": "https://localhost:8080/"
        },
        "id": "7YwerornFV2b",
        "outputId": "30aa8592-d3e8-4968-9f0b-832add6368ce"
      },
      "outputs": [
        {
          "name": "stdout",
          "output_type": "stream",
          "text": [
            "Image URL for 'Hearts In Atlantis': http://images.amazon.com/images/P/0671024248.01.LZZZZZZZ.jpg\n",
            "Image URL for 'Desperation': http://images.amazon.com/images/P/0451188462.01.LZZZZZZZ.jpg\n",
            "Image URL for 'Lightning': http://images.amazon.com/images/P/0425115801.01.LZZZZZZZ.jpg\n",
            "Image URL for 'Dark Rivers of the Heart': http://images.amazon.com/images/P/034539657X.01.LZZZZZZZ.jpg\n",
            "Image URL for 'Carrie': http://images.amazon.com/images/P/0451157443.01.LZZZZZZZ.jpg\n",
            "Image URL for 'Bag of Bones': http://images.amazon.com/images/P/067102423X.01.LZZZZZZZ.jpg\n"
          ]
        }
      ],
      "source": [
        "for idx in ids_index:\n",
        "    url = final_ratings.iloc[idx]['Image_URL_Large']\n",
        "    print(f\"Image URL for '{final_ratings.iloc[idx]['Book_Title']}': {url}\")"
      ]
    },
    {
      "cell_type": "code",
      "execution_count": 55,
      "metadata": {
        "colab": {
          "base_uri": "https://localhost:8080/"
        },
        "id": "MO-ln9g3FHEc",
        "outputId": "19e72b6b-eace-424b-ea92-e7742c1f0549"
      },
      "outputs": [
        {
          "name": "stdout",
          "output_type": "stream",
          "text": [
            "You searched for 'Harry Potter and the Chamber of Secrets (Book 2)'\n",
            "\n",
            "The suggested books are:\n",
            "\n",
            "Harry Potter and the Prisoner of Azkaban (Book 3)\n",
            "Harry Potter and the Goblet of Fire (Book 4)\n",
            "Harry Potter and the Sorcerer's Stone (Harry Potter (Paperback))\n",
            "Harry Potter and the Sorcerer's Stone (Book 1)\n",
            "Harry Potter and the Order of the Phoenix (Book 5)\n"
          ]
        }
      ],
      "source": [
        "#Defining a Function to Recommend Books\n",
        "def recommend_book(book_name):\n",
        "    book_id = np.where(user_item_matrix_filled.index == book_name)[0][0]\n",
        "    distance, suggestion = model.kneighbors(user_item_matrix_filled.iloc[book_id, :].values.reshape(1, -1), n_neighbors=6)\n",
        "\n",
        "    print(f\"You searched for '{book_name}'\\n\")\n",
        "    print(\"The suggested books are:\\n\")\n",
        "    for i in range(len(suggestion)):\n",
        "        books = user_item_matrix_filled.index[suggestion[i]]\n",
        "        for j in books:\n",
        "            if j != book_name:  # To avoid recommending the same book\n",
        "                print(j)\n",
        "\n",
        "# Example: Recommend books similar to \"Harry Potter and the Chamber of Secrets (Book 2)\"\n",
        "book_name = \"Harry Potter and the Chamber of Secrets (Book 2)\"\n",
        "recommend_book(book_name)\n"
      ]
    },
    {
      "cell_type": "markdown",
      "metadata": {
        "id": "r0H52vYoPCYe"
      },
      "source": [
        "#Saving Model and Data Artifacts"
      ]
    },
    {
      "cell_type": "code",
      "execution_count": 56,
      "metadata": {
        "id": "NlneMczU7Egh"
      },
      "outputs": [],
      "source": [
        "import os\n",
        "import pickle\n",
        "\n",
        "# Ensure the 'artifacts' directory exists\n",
        "os.makedirs('artifacts', exist_ok=True)\n",
        "\n",
        "# Save the model and other objects\n",
        "pickle.dump(model, open('artifacts/model.pkl', 'wb'))\n",
        "pickle.dump(book_names, open('artifacts/book_names.pkl', 'wb'))\n",
        "pickle.dump(final_ratings, open('artifacts/final_rating.pkl', 'wb'))\n",
        "pickle.dump(user_item_matrix_filled, open('artifacts/book_pivot.pkl', 'wb'))\n"
      ]
    }
  ],
  "metadata": {
    "colab": {
      "provenance": [],
      "toc_visible": true
    },
    "kernelspec": {
      "display_name": "Python 3",
      "name": "python3"
    },
    "language_info": {
      "codemirror_mode": {
        "name": "ipython",
        "version": 3
      },
      "file_extension": ".py",
      "mimetype": "text/x-python",
      "name": "python",
      "nbconvert_exporter": "python",
      "pygments_lexer": "ipython3",
      "version": "3.12.4"
    }
  },
  "nbformat": 4,
  "nbformat_minor": 0
}
